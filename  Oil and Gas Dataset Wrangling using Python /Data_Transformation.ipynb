{
  "nbformat": 4,
  "nbformat_minor": 0,
  "metadata": {
    "colab": {
      "name": "Data Transformation.ipynb",
      "provenance": [],
      "authorship_tag": "ABX9TyNZNA+G9cszu3aGB8/6Q473",
      "include_colab_link": true
    },
    "kernelspec": {
      "name": "python3",
      "display_name": "Python 3"
    }
  },
  "cells": [
    {
      "cell_type": "markdown",
      "metadata": {
        "id": "view-in-github",
        "colab_type": "text"
      },
      "source": [
        "<a href=\"https://colab.research.google.com/github/divyansh1195/Halliburton-Landmark-Learning/blob/master/%20Oil%20and%20Gas%20Dataset%20Wrangling%20using%20Python%20/Data_Transformation.ipynb\" target=\"_parent\"><img src=\"https://colab.research.google.com/assets/colab-badge.svg\" alt=\"Open In Colab\"/></a>"
      ]
    },
    {
      "cell_type": "markdown",
      "metadata": {
        "id": "o6tswDS3NMaZ",
        "colab_type": "text"
      },
      "source": [
        "#### In this notebook, I have performed Data Transformation on Oil and Gas dataset (Source:Halliburton Landmark Learning). The notebook implementation has been done based on tutorials provided in the Landmark Learning course, \"Data Science using R.\"\n",
        "\n",
        "#### I had completed the course, \"Data Science using R\" from Landmark Learning and then tried to implement the data transformation steps on my own in Python."
      ]
    },
    {
      "cell_type": "code",
      "metadata": {
        "id": "Qe5lshvPsi7X",
        "colab_type": "code",
        "colab": {
          "base_uri": "https://localhost:8080/",
          "height": 221
        },
        "outputId": "3a8702b8-9ac4-475c-e101-bedad994809c"
      },
      "source": [
        "import pandas as pd\n",
        "#read excel file\n",
        "data=pd.read_excel('Production_data_wells.xlsx')\n",
        "print(data.shape)\n",
        "data.head()"
      ],
      "execution_count": 1,
      "outputs": [
        {
          "output_type": "stream",
          "text": [
            "(37312, 11)\n"
          ],
          "name": "stdout"
        },
        {
          "output_type": "execute_result",
          "data": {
            "text/html": [
              "<div>\n",
              "<style scoped>\n",
              "    .dataframe tbody tr th:only-of-type {\n",
              "        vertical-align: middle;\n",
              "    }\n",
              "\n",
              "    .dataframe tbody tr th {\n",
              "        vertical-align: top;\n",
              "    }\n",
              "\n",
              "    .dataframe thead th {\n",
              "        text-align: right;\n",
              "    }\n",
              "</style>\n",
              "<table border=\"1\" class=\"dataframe\">\n",
              "  <thead>\n",
              "    <tr style=\"text-align: right;\">\n",
              "      <th></th>\n",
              "      <th>state</th>\n",
              "      <th>prod_year</th>\n",
              "      <th>rate_class</th>\n",
              "      <th>num_oil_wells</th>\n",
              "      <th>oil_prod_BBL</th>\n",
              "      <th>ADgas_prod_MCF</th>\n",
              "      <th>oil_wells_dayson</th>\n",
              "      <th>num_gas_wells</th>\n",
              "      <th>NAgas_prod_MCF</th>\n",
              "      <th>conden_prod_BBL</th>\n",
              "      <th>gas_wells_dayson</th>\n",
              "    </tr>\n",
              "  </thead>\n",
              "  <tbody>\n",
              "    <tr>\n",
              "      <th>0</th>\n",
              "      <td>AK</td>\n",
              "      <td>2009</td>\n",
              "      <td>1</td>\n",
              "      <td>10</td>\n",
              "      <td>661</td>\n",
              "      <td>139</td>\n",
              "      <td>2642</td>\n",
              "      <td>17</td>\n",
              "      <td>4748</td>\n",
              "      <td>83</td>\n",
              "      <td>5256</td>\n",
              "    </tr>\n",
              "    <tr>\n",
              "      <th>1</th>\n",
              "      <td>AK</td>\n",
              "      <td>2009</td>\n",
              "      <td>2</td>\n",
              "      <td>6</td>\n",
              "      <td>2377</td>\n",
              "      <td>2901</td>\n",
              "      <td>1946</td>\n",
              "      <td>9</td>\n",
              "      <td>22796</td>\n",
              "      <td>256</td>\n",
              "      <td>2735</td>\n",
              "    </tr>\n",
              "    <tr>\n",
              "      <th>2</th>\n",
              "      <td>AK</td>\n",
              "      <td>2009</td>\n",
              "      <td>3</td>\n",
              "      <td>7</td>\n",
              "      <td>5050</td>\n",
              "      <td>5352</td>\n",
              "      <td>2309</td>\n",
              "      <td>7</td>\n",
              "      <td>42536</td>\n",
              "      <td>217</td>\n",
              "      <td>2433</td>\n",
              "    </tr>\n",
              "    <tr>\n",
              "      <th>3</th>\n",
              "      <td>AK</td>\n",
              "      <td>2009</td>\n",
              "      <td>4</td>\n",
              "      <td>4</td>\n",
              "      <td>5914</td>\n",
              "      <td>4658</td>\n",
              "      <td>1460</td>\n",
              "      <td>7</td>\n",
              "      <td>77444</td>\n",
              "      <td>549</td>\n",
              "      <td>2555</td>\n",
              "    </tr>\n",
              "    <tr>\n",
              "      <th>4</th>\n",
              "      <td>AK</td>\n",
              "      <td>2009</td>\n",
              "      <td>5</td>\n",
              "      <td>12</td>\n",
              "      <td>23883</td>\n",
              "      <td>30124</td>\n",
              "      <td>4197</td>\n",
              "      <td>6</td>\n",
              "      <td>66203</td>\n",
              "      <td>1907</td>\n",
              "      <td>1854</td>\n",
              "    </tr>\n",
              "  </tbody>\n",
              "</table>\n",
              "</div>"
            ],
            "text/plain": [
              "  state  prod_year  ...  conden_prod_BBL  gas_wells_dayson\n",
              "0    AK       2009  ...               83              5256\n",
              "1    AK       2009  ...              256              2735\n",
              "2    AK       2009  ...              217              2433\n",
              "3    AK       2009  ...              549              2555\n",
              "4    AK       2009  ...             1907              1854\n",
              "\n",
              "[5 rows x 11 columns]"
            ]
          },
          "metadata": {
            "tags": []
          },
          "execution_count": 1
        }
      ]
    },
    {
      "cell_type": "code",
      "metadata": {
        "id": "5EOpImBj0b30",
        "colab_type": "code",
        "colab": {
          "base_uri": "https://localhost:8080/",
          "height": 85
        },
        "outputId": "80875d25-59c7-45be-c9e7-df8dad74775e"
      },
      "source": [
        "data.columns"
      ],
      "execution_count": 2,
      "outputs": [
        {
          "output_type": "execute_result",
          "data": {
            "text/plain": [
              "Index(['state', 'prod_year', 'rate_class', 'num_oil_wells', 'oil_prod_BBL',\n",
              "       'ADgas_prod_MCF', 'oil_wells_dayson', 'num_gas_wells', 'NAgas_prod_MCF',\n",
              "       'conden_prod_BBL', 'gas_wells_dayson'],\n",
              "      dtype='object')"
            ]
          },
          "metadata": {
            "tags": []
          },
          "execution_count": 2
        }
      ]
    },
    {
      "cell_type": "code",
      "metadata": {
        "id": "oa9IqgEzzQoz",
        "colab_type": "code",
        "colab": {
          "base_uri": "https://localhost:8080/",
          "height": 241
        },
        "outputId": "72932833-eff7-46a1-b8ef-78e29b569d05"
      },
      "source": [
        "## Extract subset of data from 2004 and state Ak? Write the data into a new dataframe\n",
        "prod_data_2004=data[(data['state'] == 'AK') & (data['prod_year'] == 2004)]\n",
        "print(prod_data_2004.shape)\n",
        "prod_data_2004.head()"
      ],
      "execution_count": 3,
      "outputs": [
        {
          "output_type": "stream",
          "text": [
            "(22, 11)\n"
          ],
          "name": "stdout"
        },
        {
          "output_type": "execute_result",
          "data": {
            "text/html": [
              "<div>\n",
              "<style scoped>\n",
              "    .dataframe tbody tr th:only-of-type {\n",
              "        vertical-align: middle;\n",
              "    }\n",
              "\n",
              "    .dataframe tbody tr th {\n",
              "        vertical-align: top;\n",
              "    }\n",
              "\n",
              "    .dataframe thead th {\n",
              "        text-align: right;\n",
              "    }\n",
              "</style>\n",
              "<table border=\"1\" class=\"dataframe\">\n",
              "  <thead>\n",
              "    <tr style=\"text-align: right;\">\n",
              "      <th></th>\n",
              "      <th>state</th>\n",
              "      <th>prod_year</th>\n",
              "      <th>rate_class</th>\n",
              "      <th>num_oil_wells</th>\n",
              "      <th>oil_prod_BBL</th>\n",
              "      <th>ADgas_prod_MCF</th>\n",
              "      <th>oil_wells_dayson</th>\n",
              "      <th>num_gas_wells</th>\n",
              "      <th>NAgas_prod_MCF</th>\n",
              "      <th>conden_prod_BBL</th>\n",
              "      <th>gas_wells_dayson</th>\n",
              "    </tr>\n",
              "  </thead>\n",
              "  <tbody>\n",
              "    <tr>\n",
              "      <th>110</th>\n",
              "      <td>AK</td>\n",
              "      <td>2004</td>\n",
              "      <td>1</td>\n",
              "      <td>11</td>\n",
              "      <td>1058</td>\n",
              "      <td>790</td>\n",
              "      <td>4026</td>\n",
              "      <td>15</td>\n",
              "      <td>5516</td>\n",
              "      <td>56</td>\n",
              "      <td>3991</td>\n",
              "    </tr>\n",
              "    <tr>\n",
              "      <th>111</th>\n",
              "      <td>AK</td>\n",
              "      <td>2004</td>\n",
              "      <td>2</td>\n",
              "      <td>4</td>\n",
              "      <td>1708</td>\n",
              "      <td>3073</td>\n",
              "      <td>1403</td>\n",
              "      <td>2</td>\n",
              "      <td>5855</td>\n",
              "      <td>137</td>\n",
              "      <td>732</td>\n",
              "    </tr>\n",
              "    <tr>\n",
              "      <th>112</th>\n",
              "      <td>AK</td>\n",
              "      <td>2004</td>\n",
              "      <td>3</td>\n",
              "      <td>7</td>\n",
              "      <td>6135</td>\n",
              "      <td>5542</td>\n",
              "      <td>2502</td>\n",
              "      <td>4</td>\n",
              "      <td>13571</td>\n",
              "      <td>357</td>\n",
              "      <td>1127</td>\n",
              "    </tr>\n",
              "    <tr>\n",
              "      <th>113</th>\n",
              "      <td>AK</td>\n",
              "      <td>2004</td>\n",
              "      <td>4</td>\n",
              "      <td>7</td>\n",
              "      <td>8781</td>\n",
              "      <td>16497</td>\n",
              "      <td>2256</td>\n",
              "      <td>3</td>\n",
              "      <td>30908</td>\n",
              "      <td>893</td>\n",
              "      <td>1098</td>\n",
              "    </tr>\n",
              "    <tr>\n",
              "      <th>114</th>\n",
              "      <td>AK</td>\n",
              "      <td>2004</td>\n",
              "      <td>5</td>\n",
              "      <td>4</td>\n",
              "      <td>6614</td>\n",
              "      <td>6536</td>\n",
              "      <td>1035</td>\n",
              "      <td>2</td>\n",
              "      <td>22072</td>\n",
              "      <td>459</td>\n",
              "      <td>610</td>\n",
              "    </tr>\n",
              "  </tbody>\n",
              "</table>\n",
              "</div>"
            ],
            "text/plain": [
              "    state  prod_year  ...  conden_prod_BBL  gas_wells_dayson\n",
              "110    AK       2004  ...               56              3991\n",
              "111    AK       2004  ...              137               732\n",
              "112    AK       2004  ...              357              1127\n",
              "113    AK       2004  ...              893              1098\n",
              "114    AK       2004  ...              459               610\n",
              "\n",
              "[5 rows x 11 columns]"
            ]
          },
          "metadata": {
            "tags": []
          },
          "execution_count": 3
        }
      ]
    },
    {
      "cell_type": "code",
      "metadata": {
        "id": "_x9wR3Os4WWd",
        "colab_type": "code",
        "colab": {
          "base_uri": "https://localhost:8080/",
          "height": 241
        },
        "outputId": "ed69122d-a769-4616-c087-6f906b9744f2"
      },
      "source": [
        "## Arrange the dataframe wrt oil produced in barrels, 'oil_prod_BBL'\n",
        "oil_prod=data.copy()\n",
        "oil_prod.sort_values(['oil_prod_BBL'], axis=0, \n",
        "                 ascending=True, inplace=True) \n",
        "print(oil_prod.shape)\n",
        "oil_prod.head()"
      ],
      "execution_count": 4,
      "outputs": [
        {
          "output_type": "stream",
          "text": [
            "(37312, 11)\n"
          ],
          "name": "stdout"
        },
        {
          "output_type": "execute_result",
          "data": {
            "text/html": [
              "<div>\n",
              "<style scoped>\n",
              "    .dataframe tbody tr th:only-of-type {\n",
              "        vertical-align: middle;\n",
              "    }\n",
              "\n",
              "    .dataframe tbody tr th {\n",
              "        vertical-align: top;\n",
              "    }\n",
              "\n",
              "    .dataframe thead th {\n",
              "        text-align: right;\n",
              "    }\n",
              "</style>\n",
              "<table border=\"1\" class=\"dataframe\">\n",
              "  <thead>\n",
              "    <tr style=\"text-align: right;\">\n",
              "      <th></th>\n",
              "      <th>state</th>\n",
              "      <th>prod_year</th>\n",
              "      <th>rate_class</th>\n",
              "      <th>num_oil_wells</th>\n",
              "      <th>oil_prod_BBL</th>\n",
              "      <th>ADgas_prod_MCF</th>\n",
              "      <th>oil_wells_dayson</th>\n",
              "      <th>num_gas_wells</th>\n",
              "      <th>NAgas_prod_MCF</th>\n",
              "      <th>conden_prod_BBL</th>\n",
              "      <th>gas_wells_dayson</th>\n",
              "    </tr>\n",
              "  </thead>\n",
              "  <tbody>\n",
              "    <tr>\n",
              "      <th>18655</th>\n",
              "      <td>MS</td>\n",
              "      <td>1988</td>\n",
              "      <td>22</td>\n",
              "      <td>0</td>\n",
              "      <td>0</td>\n",
              "      <td>0</td>\n",
              "      <td>0</td>\n",
              "      <td>0</td>\n",
              "      <td>0</td>\n",
              "      <td>0</td>\n",
              "      <td>0</td>\n",
              "    </tr>\n",
              "    <tr>\n",
              "      <th>19975</th>\n",
              "      <td>MT</td>\n",
              "      <td>1993</td>\n",
              "      <td>22</td>\n",
              "      <td>0</td>\n",
              "      <td>0</td>\n",
              "      <td>0</td>\n",
              "      <td>0</td>\n",
              "      <td>0</td>\n",
              "      <td>0</td>\n",
              "      <td>0</td>\n",
              "      <td>0</td>\n",
              "    </tr>\n",
              "    <tr>\n",
              "      <th>19974</th>\n",
              "      <td>MT</td>\n",
              "      <td>1993</td>\n",
              "      <td>21</td>\n",
              "      <td>0</td>\n",
              "      <td>0</td>\n",
              "      <td>0</td>\n",
              "      <td>0</td>\n",
              "      <td>0</td>\n",
              "      <td>0</td>\n",
              "      <td>0</td>\n",
              "      <td>0</td>\n",
              "    </tr>\n",
              "    <tr>\n",
              "      <th>19973</th>\n",
              "      <td>MT</td>\n",
              "      <td>1993</td>\n",
              "      <td>20</td>\n",
              "      <td>0</td>\n",
              "      <td>0</td>\n",
              "      <td>0</td>\n",
              "      <td>0</td>\n",
              "      <td>0</td>\n",
              "      <td>0</td>\n",
              "      <td>0</td>\n",
              "      <td>0</td>\n",
              "    </tr>\n",
              "    <tr>\n",
              "      <th>19972</th>\n",
              "      <td>MT</td>\n",
              "      <td>1993</td>\n",
              "      <td>19</td>\n",
              "      <td>0</td>\n",
              "      <td>0</td>\n",
              "      <td>0</td>\n",
              "      <td>0</td>\n",
              "      <td>0</td>\n",
              "      <td>0</td>\n",
              "      <td>0</td>\n",
              "      <td>0</td>\n",
              "    </tr>\n",
              "  </tbody>\n",
              "</table>\n",
              "</div>"
            ],
            "text/plain": [
              "      state  prod_year  ...  conden_prod_BBL  gas_wells_dayson\n",
              "18655    MS       1988  ...                0                 0\n",
              "19975    MT       1993  ...                0                 0\n",
              "19974    MT       1993  ...                0                 0\n",
              "19973    MT       1993  ...                0                 0\n",
              "19972    MT       1993  ...                0                 0\n",
              "\n",
              "[5 rows x 11 columns]"
            ]
          },
          "metadata": {
            "tags": []
          },
          "execution_count": 4
        }
      ]
    },
    {
      "cell_type": "code",
      "metadata": {
        "id": "-aua19M_5Uro",
        "colab_type": "code",
        "colab": {
          "base_uri": "https://localhost:8080/",
          "height": 326
        },
        "outputId": "6a34f162-158a-44a1-9639-2b66c9124f24"
      },
      "source": [
        "## find highest producer of oil in 2004\n",
        "oil_prod_2004=data[(data['prod_year'] == 2004)]\n",
        "oil_prod_2004.sort_values(['oil_prod_BBL'], axis=0, \n",
        "                 ascending=False, inplace=True)\n",
        "print(oil_prod_2004.shape)\n",
        "oil_prod_2004.head()"
      ],
      "execution_count": 5,
      "outputs": [
        {
          "output_type": "stream",
          "text": [
            "(726, 11)\n"
          ],
          "name": "stdout"
        },
        {
          "output_type": "stream",
          "text": [
            "/usr/local/lib/python3.6/dist-packages/ipykernel_launcher.py:4: SettingWithCopyWarning: \n",
            "A value is trying to be set on a copy of a slice from a DataFrame\n",
            "\n",
            "See the caveats in the documentation: https://pandas.pydata.org/pandas-docs/stable/user_guide/indexing.html#returning-a-view-versus-a-copy\n",
            "  after removing the cwd from sys.path.\n"
          ],
          "name": "stderr"
        },
        {
          "output_type": "execute_result",
          "data": {
            "text/html": [
              "<div>\n",
              "<style scoped>\n",
              "    .dataframe tbody tr th:only-of-type {\n",
              "        vertical-align: middle;\n",
              "    }\n",
              "\n",
              "    .dataframe tbody tr th {\n",
              "        vertical-align: top;\n",
              "    }\n",
              "\n",
              "    .dataframe thead th {\n",
              "        text-align: right;\n",
              "    }\n",
              "</style>\n",
              "<table border=\"1\" class=\"dataframe\">\n",
              "  <thead>\n",
              "    <tr style=\"text-align: right;\">\n",
              "      <th></th>\n",
              "      <th>state</th>\n",
              "      <th>prod_year</th>\n",
              "      <th>rate_class</th>\n",
              "      <th>num_oil_wells</th>\n",
              "      <th>oil_prod_BBL</th>\n",
              "      <th>ADgas_prod_MCF</th>\n",
              "      <th>oil_wells_dayson</th>\n",
              "      <th>num_gas_wells</th>\n",
              "      <th>NAgas_prod_MCF</th>\n",
              "      <th>conden_prod_BBL</th>\n",
              "      <th>gas_wells_dayson</th>\n",
              "    </tr>\n",
              "  </thead>\n",
              "  <tbody>\n",
              "    <tr>\n",
              "      <th>8446</th>\n",
              "      <td>FG</td>\n",
              "      <td>2004</td>\n",
              "      <td>21</td>\n",
              "      <td>56</td>\n",
              "      <td>131140802</td>\n",
              "      <td>171336391</td>\n",
              "      <td>17330</td>\n",
              "      <td>27</td>\n",
              "      <td>403280856</td>\n",
              "      <td>10772295</td>\n",
              "      <td>7994</td>\n",
              "    </tr>\n",
              "    <tr>\n",
              "      <th>8445</th>\n",
              "      <td>FG</td>\n",
              "      <td>2004</td>\n",
              "      <td>20</td>\n",
              "      <td>69</td>\n",
              "      <td>84444616</td>\n",
              "      <td>124670249</td>\n",
              "      <td>21813</td>\n",
              "      <td>70</td>\n",
              "      <td>500479649</td>\n",
              "      <td>10075123</td>\n",
              "      <td>21809</td>\n",
              "    </tr>\n",
              "    <tr>\n",
              "      <th>8447</th>\n",
              "      <td>FG</td>\n",
              "      <td>2004</td>\n",
              "      <td>22</td>\n",
              "      <td>18</td>\n",
              "      <td>75572164</td>\n",
              "      <td>130577569</td>\n",
              "      <td>5982</td>\n",
              "      <td>6</td>\n",
              "      <td>205746704</td>\n",
              "      <td>2777116</td>\n",
              "      <td>2074</td>\n",
              "    </tr>\n",
              "    <tr>\n",
              "      <th>31253</th>\n",
              "      <td>TX</td>\n",
              "      <td>2004</td>\n",
              "      <td>14</td>\n",
              "      <td>2474</td>\n",
              "      <td>48286081</td>\n",
              "      <td>86233664</td>\n",
              "      <td>874126</td>\n",
              "      <td>8839</td>\n",
              "      <td>1061639227</td>\n",
              "      <td>30579133</td>\n",
              "      <td>2984519</td>\n",
              "    </tr>\n",
              "    <tr>\n",
              "      <th>8444</th>\n",
              "      <td>FG</td>\n",
              "      <td>2004</td>\n",
              "      <td>19</td>\n",
              "      <td>75</td>\n",
              "      <td>46794417</td>\n",
              "      <td>66789738</td>\n",
              "      <td>24741</td>\n",
              "      <td>150</td>\n",
              "      <td>541220759</td>\n",
              "      <td>9361211</td>\n",
              "      <td>45737</td>\n",
              "    </tr>\n",
              "  </tbody>\n",
              "</table>\n",
              "</div>"
            ],
            "text/plain": [
              "      state  prod_year  ...  conden_prod_BBL  gas_wells_dayson\n",
              "8446     FG       2004  ...         10772295              7994\n",
              "8445     FG       2004  ...         10075123             21809\n",
              "8447     FG       2004  ...          2777116              2074\n",
              "31253    TX       2004  ...         30579133           2984519\n",
              "8444     FG       2004  ...          9361211             45737\n",
              "\n",
              "[5 rows x 11 columns]"
            ]
          },
          "metadata": {
            "tags": []
          },
          "execution_count": 5
        }
      ]
    },
    {
      "cell_type": "code",
      "metadata": {
        "id": "I6mGIPdZ6VMl",
        "colab_type": "code",
        "colab": {
          "base_uri": "https://localhost:8080/",
          "height": 241
        },
        "outputId": "af1fe888-d972-44e8-ac9d-183e7df135d7"
      },
      "source": [
        "## average oil produced from each well per observation\n",
        "# this can be achieved by creating new variable 'avg_oil_prod_well_state' \n",
        "data['avg_oil_prod_well_state']=data['oil_prod_BBL']/data['num_oil_wells']\n",
        "print(data.shape)\n",
        "data.head()"
      ],
      "execution_count": 6,
      "outputs": [
        {
          "output_type": "stream",
          "text": [
            "(37312, 12)\n"
          ],
          "name": "stdout"
        },
        {
          "output_type": "execute_result",
          "data": {
            "text/html": [
              "<div>\n",
              "<style scoped>\n",
              "    .dataframe tbody tr th:only-of-type {\n",
              "        vertical-align: middle;\n",
              "    }\n",
              "\n",
              "    .dataframe tbody tr th {\n",
              "        vertical-align: top;\n",
              "    }\n",
              "\n",
              "    .dataframe thead th {\n",
              "        text-align: right;\n",
              "    }\n",
              "</style>\n",
              "<table border=\"1\" class=\"dataframe\">\n",
              "  <thead>\n",
              "    <tr style=\"text-align: right;\">\n",
              "      <th></th>\n",
              "      <th>state</th>\n",
              "      <th>prod_year</th>\n",
              "      <th>rate_class</th>\n",
              "      <th>num_oil_wells</th>\n",
              "      <th>oil_prod_BBL</th>\n",
              "      <th>ADgas_prod_MCF</th>\n",
              "      <th>oil_wells_dayson</th>\n",
              "      <th>num_gas_wells</th>\n",
              "      <th>NAgas_prod_MCF</th>\n",
              "      <th>conden_prod_BBL</th>\n",
              "      <th>gas_wells_dayson</th>\n",
              "      <th>avg_oil_prod_well_state</th>\n",
              "    </tr>\n",
              "  </thead>\n",
              "  <tbody>\n",
              "    <tr>\n",
              "      <th>0</th>\n",
              "      <td>AK</td>\n",
              "      <td>2009</td>\n",
              "      <td>1</td>\n",
              "      <td>10</td>\n",
              "      <td>661</td>\n",
              "      <td>139</td>\n",
              "      <td>2642</td>\n",
              "      <td>17</td>\n",
              "      <td>4748</td>\n",
              "      <td>83</td>\n",
              "      <td>5256</td>\n",
              "      <td>66.100000</td>\n",
              "    </tr>\n",
              "    <tr>\n",
              "      <th>1</th>\n",
              "      <td>AK</td>\n",
              "      <td>2009</td>\n",
              "      <td>2</td>\n",
              "      <td>6</td>\n",
              "      <td>2377</td>\n",
              "      <td>2901</td>\n",
              "      <td>1946</td>\n",
              "      <td>9</td>\n",
              "      <td>22796</td>\n",
              "      <td>256</td>\n",
              "      <td>2735</td>\n",
              "      <td>396.166667</td>\n",
              "    </tr>\n",
              "    <tr>\n",
              "      <th>2</th>\n",
              "      <td>AK</td>\n",
              "      <td>2009</td>\n",
              "      <td>3</td>\n",
              "      <td>7</td>\n",
              "      <td>5050</td>\n",
              "      <td>5352</td>\n",
              "      <td>2309</td>\n",
              "      <td>7</td>\n",
              "      <td>42536</td>\n",
              "      <td>217</td>\n",
              "      <td>2433</td>\n",
              "      <td>721.428571</td>\n",
              "    </tr>\n",
              "    <tr>\n",
              "      <th>3</th>\n",
              "      <td>AK</td>\n",
              "      <td>2009</td>\n",
              "      <td>4</td>\n",
              "      <td>4</td>\n",
              "      <td>5914</td>\n",
              "      <td>4658</td>\n",
              "      <td>1460</td>\n",
              "      <td>7</td>\n",
              "      <td>77444</td>\n",
              "      <td>549</td>\n",
              "      <td>2555</td>\n",
              "      <td>1478.500000</td>\n",
              "    </tr>\n",
              "    <tr>\n",
              "      <th>4</th>\n",
              "      <td>AK</td>\n",
              "      <td>2009</td>\n",
              "      <td>5</td>\n",
              "      <td>12</td>\n",
              "      <td>23883</td>\n",
              "      <td>30124</td>\n",
              "      <td>4197</td>\n",
              "      <td>6</td>\n",
              "      <td>66203</td>\n",
              "      <td>1907</td>\n",
              "      <td>1854</td>\n",
              "      <td>1990.250000</td>\n",
              "    </tr>\n",
              "  </tbody>\n",
              "</table>\n",
              "</div>"
            ],
            "text/plain": [
              "  state  prod_year  ...  gas_wells_dayson  avg_oil_prod_well_state\n",
              "0    AK       2009  ...              5256                66.100000\n",
              "1    AK       2009  ...              2735               396.166667\n",
              "2    AK       2009  ...              2433               721.428571\n",
              "3    AK       2009  ...              2555              1478.500000\n",
              "4    AK       2009  ...              1854              1990.250000\n",
              "\n",
              "[5 rows x 12 columns]"
            ]
          },
          "metadata": {
            "tags": []
          },
          "execution_count": 6
        }
      ]
    },
    {
      "cell_type": "code",
      "metadata": {
        "id": "8jNNR97_8MBo",
        "colab_type": "code",
        "colab": {
          "base_uri": "https://localhost:8080/",
          "height": 326
        },
        "outputId": "419ceafe-2957-4f6a-bdd0-dfbfec8ed13c"
      },
      "source": [
        "## average oil produced from each well for 2004 arranged in descending order in terms of 'avg_oil_prod_well_state'\n",
        "avg_oil_2004=data[(data['prod_year'] == 2004)]\n",
        "avg_oil_2004.sort_values(['avg_oil_prod_well_state'], axis=0, \n",
        "                 ascending=False, inplace=True)\n",
        "print(avg_oil_2004.shape)\n",
        "avg_oil_2004.head()"
      ],
      "execution_count": 7,
      "outputs": [
        {
          "output_type": "stream",
          "text": [
            "(726, 12)\n"
          ],
          "name": "stdout"
        },
        {
          "output_type": "stream",
          "text": [
            "/usr/local/lib/python3.6/dist-packages/ipykernel_launcher.py:4: SettingWithCopyWarning: \n",
            "A value is trying to be set on a copy of a slice from a DataFrame\n",
            "\n",
            "See the caveats in the documentation: https://pandas.pydata.org/pandas-docs/stable/user_guide/indexing.html#returning-a-view-versus-a-copy\n",
            "  after removing the cwd from sys.path.\n"
          ],
          "name": "stderr"
        },
        {
          "output_type": "execute_result",
          "data": {
            "text/html": [
              "<div>\n",
              "<style scoped>\n",
              "    .dataframe tbody tr th:only-of-type {\n",
              "        vertical-align: middle;\n",
              "    }\n",
              "\n",
              "    .dataframe tbody tr th {\n",
              "        vertical-align: top;\n",
              "    }\n",
              "\n",
              "    .dataframe thead th {\n",
              "        text-align: right;\n",
              "    }\n",
              "</style>\n",
              "<table border=\"1\" class=\"dataframe\">\n",
              "  <thead>\n",
              "    <tr style=\"text-align: right;\">\n",
              "      <th></th>\n",
              "      <th>state</th>\n",
              "      <th>prod_year</th>\n",
              "      <th>rate_class</th>\n",
              "      <th>num_oil_wells</th>\n",
              "      <th>oil_prod_BBL</th>\n",
              "      <th>ADgas_prod_MCF</th>\n",
              "      <th>oil_wells_dayson</th>\n",
              "      <th>num_gas_wells</th>\n",
              "      <th>NAgas_prod_MCF</th>\n",
              "      <th>conden_prod_BBL</th>\n",
              "      <th>gas_wells_dayson</th>\n",
              "      <th>avg_oil_prod_well_state</th>\n",
              "    </tr>\n",
              "  </thead>\n",
              "  <tbody>\n",
              "    <tr>\n",
              "      <th>8447</th>\n",
              "      <td>FG</td>\n",
              "      <td>2004</td>\n",
              "      <td>22</td>\n",
              "      <td>18</td>\n",
              "      <td>75572164</td>\n",
              "      <td>130577569</td>\n",
              "      <td>5982</td>\n",
              "      <td>6</td>\n",
              "      <td>205746704</td>\n",
              "      <td>2777116</td>\n",
              "      <td>2074</td>\n",
              "      <td>4.198454e+06</td>\n",
              "    </tr>\n",
              "    <tr>\n",
              "      <th>131</th>\n",
              "      <td>AK</td>\n",
              "      <td>2004</td>\n",
              "      <td>22</td>\n",
              "      <td>2</td>\n",
              "      <td>6440642</td>\n",
              "      <td>25386744</td>\n",
              "      <td>732</td>\n",
              "      <td>0</td>\n",
              "      <td>0</td>\n",
              "      <td>0</td>\n",
              "      <td>0</td>\n",
              "      <td>3.220321e+06</td>\n",
              "    </tr>\n",
              "    <tr>\n",
              "      <th>8446</th>\n",
              "      <td>FG</td>\n",
              "      <td>2004</td>\n",
              "      <td>21</td>\n",
              "      <td>56</td>\n",
              "      <td>131140802</td>\n",
              "      <td>171336391</td>\n",
              "      <td>17330</td>\n",
              "      <td>27</td>\n",
              "      <td>403280856</td>\n",
              "      <td>10772295</td>\n",
              "      <td>7994</td>\n",
              "      <td>2.341800e+06</td>\n",
              "    </tr>\n",
              "    <tr>\n",
              "      <th>130</th>\n",
              "      <td>AK</td>\n",
              "      <td>2004</td>\n",
              "      <td>21</td>\n",
              "      <td>6</td>\n",
              "      <td>12240267</td>\n",
              "      <td>41857243</td>\n",
              "      <td>1983</td>\n",
              "      <td>43</td>\n",
              "      <td>606959210</td>\n",
              "      <td>23156572</td>\n",
              "      <td>15494</td>\n",
              "      <td>2.040044e+06</td>\n",
              "    </tr>\n",
              "    <tr>\n",
              "      <th>8445</th>\n",
              "      <td>FG</td>\n",
              "      <td>2004</td>\n",
              "      <td>20</td>\n",
              "      <td>69</td>\n",
              "      <td>84444616</td>\n",
              "      <td>124670249</td>\n",
              "      <td>21813</td>\n",
              "      <td>70</td>\n",
              "      <td>500479649</td>\n",
              "      <td>10075123</td>\n",
              "      <td>21809</td>\n",
              "      <td>1.223835e+06</td>\n",
              "    </tr>\n",
              "  </tbody>\n",
              "</table>\n",
              "</div>"
            ],
            "text/plain": [
              "     state  prod_year  ...  gas_wells_dayson  avg_oil_prod_well_state\n",
              "8447    FG       2004  ...              2074             4.198454e+06\n",
              "131     AK       2004  ...                 0             3.220321e+06\n",
              "8446    FG       2004  ...              7994             2.341800e+06\n",
              "130     AK       2004  ...             15494             2.040044e+06\n",
              "8445    FG       2004  ...             21809             1.223835e+06\n",
              "\n",
              "[5 rows x 12 columns]"
            ]
          },
          "metadata": {
            "tags": []
          },
          "execution_count": 7
        }
      ]
    },
    {
      "cell_type": "code",
      "metadata": {
        "id": "uCHE0OqBBifG",
        "colab_type": "code",
        "colab": {
          "base_uri": "https://localhost:8080/",
          "height": 326
        },
        "outputId": "c0d8d34c-aeda-4e14-9eab-7684b88f54ce"
      },
      "source": [
        "## average gas produced from each well when rate_class=20\n",
        "avg_gas_prod_rate_class_20=data[(data['rate_class'] == 20)]\n",
        "avg_gas_prod_rate_class_20.sort_values(['ADgas_prod_MCF'], axis=0, \n",
        "                 ascending=False, inplace=True)\n",
        "print(avg_gas_prod_rate_class_20.shape)\n",
        "avg_gas_prod_rate_class_20.head()"
      ],
      "execution_count": 8,
      "outputs": [
        {
          "output_type": "stream",
          "text": [
            "(1696, 12)\n"
          ],
          "name": "stdout"
        },
        {
          "output_type": "stream",
          "text": [
            "/usr/local/lib/python3.6/dist-packages/ipykernel_launcher.py:4: SettingWithCopyWarning: \n",
            "A value is trying to be set on a copy of a slice from a DataFrame\n",
            "\n",
            "See the caveats in the documentation: https://pandas.pydata.org/pandas-docs/stable/user_guide/indexing.html#returning-a-view-versus-a-copy\n",
            "  after removing the cwd from sys.path.\n"
          ],
          "name": "stderr"
        },
        {
          "output_type": "execute_result",
          "data": {
            "text/html": [
              "<div>\n",
              "<style scoped>\n",
              "    .dataframe tbody tr th:only-of-type {\n",
              "        vertical-align: middle;\n",
              "    }\n",
              "\n",
              "    .dataframe tbody tr th {\n",
              "        vertical-align: top;\n",
              "    }\n",
              "\n",
              "    .dataframe thead th {\n",
              "        text-align: right;\n",
              "    }\n",
              "</style>\n",
              "<table border=\"1\" class=\"dataframe\">\n",
              "  <thead>\n",
              "    <tr style=\"text-align: right;\">\n",
              "      <th></th>\n",
              "      <th>state</th>\n",
              "      <th>prod_year</th>\n",
              "      <th>rate_class</th>\n",
              "      <th>num_oil_wells</th>\n",
              "      <th>oil_prod_BBL</th>\n",
              "      <th>ADgas_prod_MCF</th>\n",
              "      <th>oil_wells_dayson</th>\n",
              "      <th>num_gas_wells</th>\n",
              "      <th>NAgas_prod_MCF</th>\n",
              "      <th>conden_prod_BBL</th>\n",
              "      <th>gas_wells_dayson</th>\n",
              "      <th>avg_oil_prod_well_state</th>\n",
              "    </tr>\n",
              "  </thead>\n",
              "  <tbody>\n",
              "    <tr>\n",
              "      <th>503</th>\n",
              "      <td>AK</td>\n",
              "      <td>1987</td>\n",
              "      <td>20</td>\n",
              "      <td>241</td>\n",
              "      <td>279941729</td>\n",
              "      <td>557239615</td>\n",
              "      <td>84514</td>\n",
              "      <td>19</td>\n",
              "      <td>110879806</td>\n",
              "      <td>12916070</td>\n",
              "      <td>6935</td>\n",
              "      <td>1.161584e+06</td>\n",
              "    </tr>\n",
              "    <tr>\n",
              "      <th>437</th>\n",
              "      <td>AK</td>\n",
              "      <td>1990</td>\n",
              "      <td>20</td>\n",
              "      <td>191</td>\n",
              "      <td>200069121</td>\n",
              "      <td>537619834</td>\n",
              "      <td>67652</td>\n",
              "      <td>36</td>\n",
              "      <td>215117592</td>\n",
              "      <td>20770556</td>\n",
              "      <td>13081</td>\n",
              "      <td>1.047482e+06</td>\n",
              "    </tr>\n",
              "    <tr>\n",
              "      <th>459</th>\n",
              "      <td>AK</td>\n",
              "      <td>1989</td>\n",
              "      <td>20</td>\n",
              "      <td>195</td>\n",
              "      <td>212632776</td>\n",
              "      <td>523429921</td>\n",
              "      <td>69806</td>\n",
              "      <td>41</td>\n",
              "      <td>235293281</td>\n",
              "      <td>24707539</td>\n",
              "      <td>14843</td>\n",
              "      <td>1.090424e+06</td>\n",
              "    </tr>\n",
              "    <tr>\n",
              "      <th>481</th>\n",
              "      <td>AK</td>\n",
              "      <td>1988</td>\n",
              "      <td>20</td>\n",
              "      <td>221</td>\n",
              "      <td>255262543</td>\n",
              "      <td>516921980</td>\n",
              "      <td>78393</td>\n",
              "      <td>20</td>\n",
              "      <td>124160409</td>\n",
              "      <td>11794524</td>\n",
              "      <td>7320</td>\n",
              "      <td>1.155034e+06</td>\n",
              "    </tr>\n",
              "    <tr>\n",
              "      <th>525</th>\n",
              "      <td>AK</td>\n",
              "      <td>1986</td>\n",
              "      <td>20</td>\n",
              "      <td>248</td>\n",
              "      <td>297244166</td>\n",
              "      <td>472476336</td>\n",
              "      <td>87171</td>\n",
              "      <td>18</td>\n",
              "      <td>104046652</td>\n",
              "      <td>7625157</td>\n",
              "      <td>6570</td>\n",
              "      <td>1.198565e+06</td>\n",
              "    </tr>\n",
              "  </tbody>\n",
              "</table>\n",
              "</div>"
            ],
            "text/plain": [
              "    state  prod_year  ...  gas_wells_dayson  avg_oil_prod_well_state\n",
              "503    AK       1987  ...              6935             1.161584e+06\n",
              "437    AK       1990  ...             13081             1.047482e+06\n",
              "459    AK       1989  ...             14843             1.090424e+06\n",
              "481    AK       1988  ...              7320             1.155034e+06\n",
              "525    AK       1986  ...              6570             1.198565e+06\n",
              "\n",
              "[5 rows x 12 columns]"
            ]
          },
          "metadata": {
            "tags": []
          },
          "execution_count": 8
        }
      ]
    },
    {
      "cell_type": "code",
      "metadata": {
        "id": "Se_dutwGDs7E",
        "colab_type": "code",
        "colab": {
          "base_uri": "https://localhost:8080/",
          "height": 326
        },
        "outputId": "3c270f94-2667-41d7-eb86-1002f9cfbd9b"
      },
      "source": [
        "## select only gas wells in TX state and arrange them in decreasing order of number of gas wells \n",
        "gas_well_tx=data[(data['state'] == 'TX')]\n",
        "gas_well_tx.sort_values(['num_gas_wells'], axis=0, \n",
        "                 ascending=False, inplace=True)\n",
        "print(gas_well_tx.shape)\n",
        "gas_well_tx.head()"
      ],
      "execution_count": 9,
      "outputs": [
        {
          "output_type": "stream",
          "text": [
            "/usr/local/lib/python3.6/dist-packages/ipykernel_launcher.py:4: SettingWithCopyWarning: \n",
            "A value is trying to be set on a copy of a slice from a DataFrame\n",
            "\n",
            "See the caveats in the documentation: https://pandas.pydata.org/pandas-docs/stable/user_guide/indexing.html#returning-a-view-versus-a-copy\n",
            "  after removing the cwd from sys.path.\n"
          ],
          "name": "stderr"
        },
        {
          "output_type": "stream",
          "text": [
            "(1672, 12)\n"
          ],
          "name": "stdout"
        },
        {
          "output_type": "execute_result",
          "data": {
            "text/html": [
              "<div>\n",
              "<style scoped>\n",
              "    .dataframe tbody tr th:only-of-type {\n",
              "        vertical-align: middle;\n",
              "    }\n",
              "\n",
              "    .dataframe tbody tr th {\n",
              "        vertical-align: top;\n",
              "    }\n",
              "\n",
              "    .dataframe thead th {\n",
              "        text-align: right;\n",
              "    }\n",
              "</style>\n",
              "<table border=\"1\" class=\"dataframe\">\n",
              "  <thead>\n",
              "    <tr style=\"text-align: right;\">\n",
              "      <th></th>\n",
              "      <th>state</th>\n",
              "      <th>prod_year</th>\n",
              "      <th>rate_class</th>\n",
              "      <th>num_oil_wells</th>\n",
              "      <th>oil_prod_BBL</th>\n",
              "      <th>ADgas_prod_MCF</th>\n",
              "      <th>oil_wells_dayson</th>\n",
              "      <th>num_gas_wells</th>\n",
              "      <th>NAgas_prod_MCF</th>\n",
              "      <th>conden_prod_BBL</th>\n",
              "      <th>gas_wells_dayson</th>\n",
              "      <th>avg_oil_prod_well_state</th>\n",
              "    </tr>\n",
              "  </thead>\n",
              "  <tbody>\n",
              "    <tr>\n",
              "      <th>31132</th>\n",
              "      <td>TX</td>\n",
              "      <td>2009</td>\n",
              "      <td>3</td>\n",
              "      <td>19070</td>\n",
              "      <td>18063421</td>\n",
              "      <td>11313692</td>\n",
              "      <td>6900667</td>\n",
              "      <td>15159</td>\n",
              "      <td>87776373</td>\n",
              "      <td>1336546</td>\n",
              "      <td>5416264</td>\n",
              "      <td>947.216623</td>\n",
              "    </tr>\n",
              "    <tr>\n",
              "      <th>31154</th>\n",
              "      <td>TX</td>\n",
              "      <td>2008</td>\n",
              "      <td>3</td>\n",
              "      <td>19908</td>\n",
              "      <td>18785103</td>\n",
              "      <td>11644099</td>\n",
              "      <td>7214581</td>\n",
              "      <td>14810</td>\n",
              "      <td>85498894</td>\n",
              "      <td>1357396</td>\n",
              "      <td>5319774</td>\n",
              "      <td>943.595690</td>\n",
              "    </tr>\n",
              "    <tr>\n",
              "      <th>31198</th>\n",
              "      <td>TX</td>\n",
              "      <td>2006</td>\n",
              "      <td>3</td>\n",
              "      <td>19257</td>\n",
              "      <td>18155127</td>\n",
              "      <td>12140231</td>\n",
              "      <td>6957864</td>\n",
              "      <td>14073</td>\n",
              "      <td>79691078</td>\n",
              "      <td>1402092</td>\n",
              "      <td>5010726</td>\n",
              "      <td>942.780651</td>\n",
              "    </tr>\n",
              "    <tr>\n",
              "      <th>31176</th>\n",
              "      <td>TX</td>\n",
              "      <td>2007</td>\n",
              "      <td>3</td>\n",
              "      <td>19153</td>\n",
              "      <td>17924811</td>\n",
              "      <td>11492254</td>\n",
              "      <td>6910453</td>\n",
              "      <td>14030</td>\n",
              "      <td>80782865</td>\n",
              "      <td>1331220</td>\n",
              "      <td>5020957</td>\n",
              "      <td>935.874850</td>\n",
              "    </tr>\n",
              "    <tr>\n",
              "      <th>31220</th>\n",
              "      <td>TX</td>\n",
              "      <td>2005</td>\n",
              "      <td>3</td>\n",
              "      <td>18595</td>\n",
              "      <td>17665520</td>\n",
              "      <td>11307487</td>\n",
              "      <td>6737197</td>\n",
              "      <td>13243</td>\n",
              "      <td>74650097</td>\n",
              "      <td>1436098</td>\n",
              "      <td>4738333</td>\n",
              "      <td>950.014520</td>\n",
              "    </tr>\n",
              "  </tbody>\n",
              "</table>\n",
              "</div>"
            ],
            "text/plain": [
              "      state  prod_year  ...  gas_wells_dayson  avg_oil_prod_well_state\n",
              "31132    TX       2009  ...           5416264               947.216623\n",
              "31154    TX       2008  ...           5319774               943.595690\n",
              "31198    TX       2006  ...           5010726               942.780651\n",
              "31176    TX       2007  ...           5020957               935.874850\n",
              "31220    TX       2005  ...           4738333               950.014520\n",
              "\n",
              "[5 rows x 12 columns]"
            ]
          },
          "metadata": {
            "tags": []
          },
          "execution_count": 9
        }
      ]
    },
    {
      "cell_type": "code",
      "metadata": {
        "id": "cdnjR-ujE0n4",
        "colab_type": "code",
        "colab": {
          "base_uri": "https://localhost:8080/",
          "height": 221
        },
        "outputId": "c5b00718-52e1-4822-e793-e99ad98a4fb5"
      },
      "source": [
        "## group the data by year and count number of records in each year\n",
        "data['prod_year'].value_counts()#for 'prod_year' record count"
      ],
      "execution_count": 10,
      "outputs": [
        {
          "output_type": "execute_result",
          "data": {
            "text/plain": [
              "1992    726\n",
              "1998    726\n",
              "2004    726\n",
              "2003    726\n",
              "1993    726\n",
              "       ... \n",
              "1926     44\n",
              "1922     44\n",
              "1921     44\n",
              "1920     44\n",
              "1919     22\n",
              "Name: prod_year, Length: 91, dtype: int64"
            ]
          },
          "metadata": {
            "tags": []
          },
          "execution_count": 10
        }
      ]
    },
    {
      "cell_type": "code",
      "metadata": {
        "id": "Mth9S2nWGcLt",
        "colab_type": "code",
        "colab": {
          "base_uri": "https://localhost:8080/",
          "height": 408
        },
        "outputId": "0ffd081b-981d-49f0-e93e-b376e8c91dc0"
      },
      "source": [
        "## for 'rate_class' record count\n",
        "data['rate_class'].value_counts()"
      ],
      "execution_count": 11,
      "outputs": [
        {
          "output_type": "execute_result",
          "data": {
            "text/plain": [
              "22    1696\n",
              "21    1696\n",
              "2     1696\n",
              "3     1696\n",
              "4     1696\n",
              "5     1696\n",
              "6     1696\n",
              "7     1696\n",
              "8     1696\n",
              "9     1696\n",
              "10    1696\n",
              "11    1696\n",
              "12    1696\n",
              "13    1696\n",
              "14    1696\n",
              "15    1696\n",
              "16    1696\n",
              "17    1696\n",
              "18    1696\n",
              "19    1696\n",
              "20    1696\n",
              "1     1696\n",
              "Name: rate_class, dtype: int64"
            ]
          },
          "metadata": {
            "tags": []
          },
          "execution_count": 11
        }
      ]
    },
    {
      "cell_type": "code",
      "metadata": {
        "id": "Z1o52KLBrcsC",
        "colab_type": "code",
        "colab": {
          "base_uri": "https://localhost:8080/",
          "height": 51
        },
        "outputId": "4933c8d7-4e40-4847-b0e4-841fc369665f"
      },
      "source": [
        "## for state='TX', find mean and total oil produced\n",
        "tx_mean_oil=data[(data['state'] == 'TX')]\n",
        "print('For \"TX\" state, the mean oil produced is',tx_mean_oil['oil_prod_BBL'].mean())\n",
        "print('For \"TX\" state, the total oil produced is ',tx_mean_oil['oil_prod_BBL'].sum())"
      ],
      "execution_count": 12,
      "outputs": [
        {
          "output_type": "stream",
          "text": [
            "For \"TX\" state, the mean oil produced is 23985925.775119618\n",
            "For \"TX\" state, the total oil produced is  40104467896\n"
          ],
          "name": "stdout"
        }
      ]
    },
    {
      "cell_type": "code",
      "metadata": {
        "id": "bVpWWY_kslHt",
        "colab_type": "code",
        "colab": {
          "base_uri": "https://localhost:8080/",
          "height": 51
        },
        "outputId": "bb564042-a23f-4af0-ee90-01a37bd9d433"
      },
      "source": [
        "## for state !='TX', find mean and total oil produced\n",
        "mean_oil_ntx=data[(data['state'] != 'TX')]\n",
        "print('For states other than \"TX\", the mean oil produced is ',mean_oil_ntx['oil_prod_BBL'].mean())\n",
        "print('For states other than \"TX\", the total oil produced is ',mean_oil_ntx['oil_prod_BBL'].sum())"
      ],
      "execution_count": 13,
      "outputs": [
        {
          "output_type": "stream",
          "text": [
            "For states other than \"TX\", the mean oil produced is  1896835.2172278338\n",
            "For states other than \"TX\", the total oil produced is  67603207142\n"
          ],
          "name": "stdout"
        }
      ]
    },
    {
      "cell_type": "code",
      "metadata": {
        "id": "_LzscI1QzJD8",
        "colab_type": "code",
        "colab": {
          "base_uri": "https://localhost:8080/",
          "height": 34
        },
        "outputId": "37fc7cf0-2c55-45c7-81ee-3b2f1551c151"
      },
      "source": [
        "## from prod_data in TX state, find max oil produced in 2005\n",
        "prod_data_2005=data[(data['state'] == 'TX') & (data['prod_year'] == 2005)]\n",
        "print('For \"TX\" state and year \"2005\", the max oil produced is ', prod_data_2005['oil_prod_BBL'].max())"
      ],
      "execution_count": 14,
      "outputs": [
        {
          "output_type": "stream",
          "text": [
            "For \"TX\" state and year \"2005\", the max oil produced is  47314766\n"
          ],
          "name": "stdout"
        }
      ]
    },
    {
      "cell_type": "code",
      "metadata": {
        "id": "ggHL_ZgLzjYq",
        "colab_type": "code",
        "colab": {
          "base_uri": "https://localhost:8080/",
          "height": 34
        },
        "outputId": "ce1323a6-d2cb-4300-c918-4c8aab8551c1"
      },
      "source": [
        "## from prod_data when state is not TX, find max oil produced in 2005\n",
        "prod_data_2005=data[(data['state'] != 'TX') & (data['prod_year'] == 2005)]\n",
        "print('For state!= \"TX\" and year \"2005\", the max oil produced is ', prod_data_2005['oil_prod_BBL'].max())"
      ],
      "execution_count": 15,
      "outputs": [
        {
          "output_type": "stream",
          "text": [
            "For state!= \"TX\" and year \"2005\", the max oil produced is  100773472\n"
          ],
          "name": "stdout"
        }
      ]
    }
  ]
}