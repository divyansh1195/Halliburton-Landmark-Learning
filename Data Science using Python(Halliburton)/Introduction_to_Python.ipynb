{
  "nbformat": 4,
  "nbformat_minor": 0,
  "metadata": {
    "colab": {
      "name": "Introduction to Python.ipynb",
      "provenance": [],
      "collapsed_sections": [],
      "authorship_tag": "ABX9TyM1mlNGBJkZHvCCG+FX7pen",
      "include_colab_link": true
    },
    "kernelspec": {
      "name": "python3",
      "display_name": "Python 3"
    }
  },
  "cells": [
    {
      "cell_type": "markdown",
      "metadata": {
        "id": "view-in-github",
        "colab_type": "text"
      },
      "source": [
        "<a href=\"https://colab.research.google.com/github/divyansh1195/Halliburton-Landmark-Learning/blob/master/Data%20Science%20using%20Python(Halliburton)/Introduction_to_Python.ipynb\" target=\"_parent\"><img src=\"https://colab.research.google.com/assets/colab-badge.svg\" alt=\"Open In Colab\"/></a>"
      ]
    },
    {
      "cell_type": "code",
      "metadata": {
        "id": "n1-LwonNjO7_",
        "colab_type": "code",
        "colab": {}
      },
      "source": [
        "import numpy as np"
      ],
      "execution_count": 1,
      "outputs": []
    },
    {
      "cell_type": "code",
      "metadata": {
        "id": "jTW1pNzhkImI",
        "colab_type": "code",
        "colab": {}
      },
      "source": [
        "A=5\n",
        "B=10\n",
        "Z1=A+B\n",
        "Z2=A-B\n",
        "Z3=A**B\n",
        "Z4=A/B\n",
        "Z5=A*B"
      ],
      "execution_count": 2,
      "outputs": []
    },
    {
      "cell_type": "code",
      "metadata": {
        "id": "lQoDHJUDkN8Y",
        "colab_type": "code",
        "colab": {
          "base_uri": "https://localhost:8080/",
          "height": 102
        },
        "outputId": "dabe832a-ceb4-4bea-c26a-a855120fddc9"
      },
      "source": [
        "print(Z1)\n",
        "print(Z2)\n",
        "print(Z3)\n",
        "print(Z4)\n",
        "print(Z5)"
      ],
      "execution_count": 3,
      "outputs": [
        {
          "output_type": "stream",
          "text": [
            "15\n",
            "-5\n",
            "9765625\n",
            "0.5\n",
            "50\n"
          ],
          "name": "stdout"
        }
      ]
    },
    {
      "cell_type": "code",
      "metadata": {
        "id": "FTr3Mn6qkk3i",
        "colab_type": "code",
        "colab": {}
      },
      "source": [
        "#STRINGS\n",
        "#Definition:''A string in Python is a sequence of characters. It is a derived data type. \n",
        "#Strings are immutable.This means that once defined, they cannot be changed."
      ],
      "execution_count": 4,
      "outputs": []
    },
    {
      "cell_type": "code",
      "metadata": {
        "id": "VcT2t7cBkmpi",
        "colab_type": "code",
        "colab": {
          "base_uri": "https://localhost:8080/",
          "height": 34
        },
        "outputId": "712c272a-12bb-446b-b859-28a00366e87d"
      },
      "source": [
        "S='Hello World'\n",
        "print(S)"
      ],
      "execution_count": 5,
      "outputs": [
        {
          "output_type": "stream",
          "text": [
            "Hello World\n"
          ],
          "name": "stdout"
        }
      ]
    },
    {
      "cell_type": "markdown",
      "metadata": {
        "id": "XB-z7RYxoWdX",
        "colab_type": "text"
      },
      "source": [
        "**TUPLES** A tuple lets us “chunk” together related information and use it as a single thing. Tuples support the same sequence operations as strings. The index operator selects an element from a tuple. So like strings, tuples are immutable."
      ]
    },
    {
      "cell_type": "code",
      "metadata": {
        "id": "LgXRl7e2k9DG",
        "colab_type": "code",
        "colab": {}
      },
      "source": [
        "#TUPLE:An unchangeable sequence of values"
      ],
      "execution_count": 6,
      "outputs": []
    },
    {
      "cell_type": "code",
      "metadata": {
        "id": "jnHQsmhok-4J",
        "colab_type": "code",
        "colab": {}
      },
      "source": [
        "X=('I', 'am', 'great!')"
      ],
      "execution_count": 7,
      "outputs": []
    },
    {
      "cell_type": "code",
      "metadata": {
        "id": "0DzJeTixl5Gh",
        "colab_type": "code",
        "colab": {
          "base_uri": "https://localhost:8080/",
          "height": 34
        },
        "outputId": "f3447ead-061b-4c7d-b96e-c0ee97054774"
      },
      "source": [
        "X"
      ],
      "execution_count": 8,
      "outputs": [
        {
          "output_type": "execute_result",
          "data": {
            "text/plain": [
              "('I', 'am', 'great!')"
            ]
          },
          "metadata": {
            "tags": []
          },
          "execution_count": 8
        }
      ]
    },
    {
      "cell_type": "code",
      "metadata": {
        "id": "ssLYQSHuoHMg",
        "colab_type": "code",
        "colab": {
          "base_uri": "https://localhost:8080/",
          "height": 35
        },
        "outputId": "ab6c34fc-5f98-4bce-d666-e21796a2d9d1"
      },
      "source": [
        "X[1]"
      ],
      "execution_count": 9,
      "outputs": [
        {
          "output_type": "execute_result",
          "data": {
            "application/vnd.google.colaboratory.intrinsic+json": {
              "type": "string"
            },
            "text/plain": [
              "'am'"
            ]
          },
          "metadata": {
            "tags": []
          },
          "execution_count": 9
        }
      ]
    },
    {
      "cell_type": "code",
      "metadata": {
        "id": "zjmowGLNoqTM",
        "colab_type": "code",
        "colab": {
          "base_uri": "https://localhost:8080/",
          "height": 35
        },
        "outputId": "367a1179-ecc0-4cdb-9015-c2c7181769f1"
      },
      "source": [
        "X[2]"
      ],
      "execution_count": 10,
      "outputs": [
        {
          "output_type": "execute_result",
          "data": {
            "application/vnd.google.colaboratory.intrinsic+json": {
              "type": "string"
            },
            "text/plain": [
              "'great!'"
            ]
          },
          "metadata": {
            "tags": []
          },
          "execution_count": 10
        }
      ]
    },
    {
      "cell_type": "code",
      "metadata": {
        "id": "dUPgQuwTpTYR",
        "colab_type": "code",
        "colab": {}
      },
      "source": [
        "X1=['I', 'am', 'great!']"
      ],
      "execution_count": 11,
      "outputs": []
    },
    {
      "cell_type": "code",
      "metadata": {
        "id": "Rp1LyUUKr9rC",
        "colab_type": "code",
        "colab": {}
      },
      "source": [
        "X1[1]='am definitely'"
      ],
      "execution_count": 12,
      "outputs": []
    },
    {
      "cell_type": "code",
      "metadata": {
        "id": "jwUzrhFvsGzT",
        "colab_type": "code",
        "colab": {
          "base_uri": "https://localhost:8080/",
          "height": 34
        },
        "outputId": "cffa51ce-7d44-487b-f20f-58527b4e8533"
      },
      "source": [
        "X1"
      ],
      "execution_count": 13,
      "outputs": [
        {
          "output_type": "execute_result",
          "data": {
            "text/plain": [
              "['I', 'am definitely', 'great!']"
            ]
          },
          "metadata": {
            "tags": []
          },
          "execution_count": 13
        }
      ]
    },
    {
      "cell_type": "code",
      "metadata": {
        "id": "KG72cD2tONs3",
        "colab_type": "code",
        "colab": {}
      },
      "source": [
        "#Dictionary EXAMPLE 1"
      ],
      "execution_count": 14,
      "outputs": []
    },
    {
      "cell_type": "code",
      "metadata": {
        "id": "6m_TY0QHsPiw",
        "colab_type": "code",
        "colab": {}
      },
      "source": [
        "DoN = {'name': 'Jack', 'age': 26}"
      ],
      "execution_count": 15,
      "outputs": []
    },
    {
      "cell_type": "code",
      "metadata": {
        "id": "Lud3ELU2QjW0",
        "colab_type": "code",
        "colab": {
          "base_uri": "https://localhost:8080/",
          "height": 34
        },
        "outputId": "1702fa4d-c37d-4dd9-a425-f39bec8c6f17"
      },
      "source": [
        "print(DoN['name'])"
      ],
      "execution_count": 16,
      "outputs": [
        {
          "output_type": "stream",
          "text": [
            "Jack\n"
          ],
          "name": "stdout"
        }
      ]
    },
    {
      "cell_type": "code",
      "metadata": {
        "id": "Q5YtqL4LQ7cH",
        "colab_type": "code",
        "colab": {}
      },
      "source": [
        "#Dictionary EXAMPLE 2"
      ],
      "execution_count": 17,
      "outputs": []
    },
    {
      "cell_type": "code",
      "metadata": {
        "id": "WmSL8YpGRAIS",
        "colab_type": "code",
        "colab": {
          "base_uri": "https://localhost:8080/",
          "height": 34
        },
        "outputId": "513499d0-6b84-4ed7-dcad-5b34c5e31751"
      },
      "source": [
        "X={'Y0':'a1', 'Y1': 'a2'}\n",
        "print(X['Y0'])"
      ],
      "execution_count": 18,
      "outputs": [
        {
          "output_type": "stream",
          "text": [
            "a1\n"
          ],
          "name": "stdout"
        }
      ]
    }
  ]
}