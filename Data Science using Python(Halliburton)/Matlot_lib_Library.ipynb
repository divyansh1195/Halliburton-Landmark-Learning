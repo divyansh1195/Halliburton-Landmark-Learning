{
  "nbformat": 4,
  "nbformat_minor": 0,
  "metadata": {
    "colab": {
      "name": "Matlot.lib Library.ipynb",
      "provenance": [],
      "collapsed_sections": [],
      "authorship_tag": "ABX9TyNjiNbRr2zMP9z3Lli/rwRo",
      "include_colab_link": true
    },
    "kernelspec": {
      "name": "python3",
      "display_name": "Python 3"
    }
  },
  "cells": [
    {
      "cell_type": "markdown",
      "metadata": {
        "id": "view-in-github",
        "colab_type": "text"
      },
      "source": [
        "<a href=\"https://colab.research.google.com/github/divyansh1195/Halliburton-Landmark-Learning/blob/master/Data%20Science%20using%20Python(Halliburton)/Matlot_lib_Library.ipynb\" target=\"_parent\"><img src=\"https://colab.research.google.com/assets/colab-badge.svg\" alt=\"Open In Colab\"/></a>"
      ]
    },
    {
      "cell_type": "markdown",
      "metadata": {
        "id": "zShf_w6evI5j",
        "colab_type": "text"
      },
      "source": [
        "\n",
        "**Creating a list**\n"
      ]
    },
    {
      "cell_type": "code",
      "metadata": {
        "id": "BjVck-Jlp4P9",
        "colab_type": "code",
        "colab": {}
      },
      "source": [
        "import numpy as np\n",
        "X=np.linspace(0, 5, 11)\n",
        "y=X**2"
      ],
      "execution_count": 1,
      "outputs": []
    },
    {
      "cell_type": "code",
      "metadata": {
        "id": "oJjS5m3hqo25",
        "colab_type": "code",
        "colab": {
          "base_uri": "https://localhost:8080/",
          "height": 34
        },
        "outputId": "e36b52ce-80e6-408e-d98e-8783c345f665"
      },
      "source": [
        "list(y)"
      ],
      "execution_count": 2,
      "outputs": [
        {
          "output_type": "execute_result",
          "data": {
            "text/plain": [
              "[0.0, 0.25, 1.0, 2.25, 4.0, 6.25, 9.0, 12.25, 16.0, 20.25, 25.0]"
            ]
          },
          "metadata": {
            "tags": []
          },
          "execution_count": 2
        }
      ]
    },
    {
      "cell_type": "code",
      "metadata": {
        "id": "sA3MumsgqbaN",
        "colab_type": "code",
        "colab": {
          "base_uri": "https://localhost:8080/",
          "height": 34
        },
        "outputId": "1bc6d8bd-fff2-46f4-a4d1-5bbe49e6d4ea"
      },
      "source": [
        "list(X)"
      ],
      "execution_count": 3,
      "outputs": [
        {
          "output_type": "execute_result",
          "data": {
            "text/plain": [
              "[0.0, 0.5, 1.0, 1.5, 2.0, 2.5, 3.0, 3.5, 4.0, 4.5, 5.0]"
            ]
          },
          "metadata": {
            "tags": []
          },
          "execution_count": 3
        }
      ]
    },
    {
      "cell_type": "code",
      "metadata": {
        "id": "2iww8HNVqXNr",
        "colab_type": "code",
        "colab": {
          "base_uri": "https://localhost:8080/",
          "height": 34
        },
        "outputId": "5b449435-06f1-447d-885d-7c055db3fd24"
      },
      "source": [
        "print(X)"
      ],
      "execution_count": 4,
      "outputs": [
        {
          "output_type": "stream",
          "text": [
            "[0.  0.5 1.  1.5 2.  2.5 3.  3.5 4.  4.5 5. ]\n"
          ],
          "name": "stdout"
        }
      ]
    },
    {
      "cell_type": "code",
      "metadata": {
        "id": "3s24COhaq4xB",
        "colab_type": "code",
        "colab": {}
      },
      "source": [
        "#plotting a curve between X and y"
      ],
      "execution_count": 5,
      "outputs": []
    },
    {
      "cell_type": "code",
      "metadata": {
        "id": "QAdW0nApq-J0",
        "colab_type": "code",
        "colab": {
          "base_uri": "https://localhost:8080/",
          "height": 378
        },
        "outputId": "ee787ad8-a5a3-408a-cf63-242d18a7b7b8"
      },
      "source": [
        "import matplotlib.pyplot as plt\n",
        "plt.plot(X, y, color = 'red')\n",
        "plt.xlabel('X')\n",
        "plt.ylabel(y)\n",
        "plt.show()"
      ],
      "execution_count": 6,
      "outputs": [
        {
          "output_type": "stream",
          "text": [
            "/usr/local/lib/python3.6/dist-packages/matplotlib/text.py:1165: FutureWarning: elementwise comparison failed; returning scalar instead, but in the future will perform elementwise comparison\n",
            "  if s != self._text:\n"
          ],
          "name": "stderr"
        },
        {
          "output_type": "display_data",
          "data": {
            "image/png": "[encoded data removed]",
            "text/plain": [
              "<Figure size 432x288 with 1 Axes>"
            ]
          },
          "metadata": {
            "tags": [],
            "needs_background": "light"
          }
        }
      ]
    },
    {
      "cell_type": "code",
      "metadata": {
        "id": "ATbdfosIuZk8",
        "colab_type": "code",
        "colab": {
          "base_uri": "https://localhost:8080/",
          "height": 265
        },
        "outputId": "db593ee1-ce38-4782-9eaf-38f4635beefa"
      },
      "source": [
        "#plotting a bar chart\n",
        "plt.bar(X, y)\n",
        "plt.show()"
      ],
      "execution_count": 7,
      "outputs": [
        {
          "output_type": "display_data",
          "data": {
            "image/png": "[encoded data removed]",
            "text/plain": [
              "<Figure size 432x288 with 1 Axes>"
            ]
          },
          "metadata": {
            "tags": [],
            "needs_background": "light"
          }
        }
      ]
    },
    {
      "cell_type": "code",
      "metadata": {
        "id": "7O4bPM5DuyOE",
        "colab_type": "code",
        "colab": {
          "base_uri": "https://localhost:8080/",
          "height": 265
        },
        "outputId": "ba3e1b9c-ada4-458f-b38f-ce18ac0d1667"
      },
      "source": [
        "#for horizontal bar chart\n",
        "#plotting a bar chart\n",
        "plt.barh(X, y)\n",
        "plt.show()"
      ],
      "execution_count": 8,
      "outputs": [
        {
          "output_type": "display_data",
          "data": {
            "image/png": "[encoded data removed]",
            "text/plain": [
              "<Figure size 432x288 with 1 Axes>"
            ]
          },
          "metadata": {
            "tags": [],
            "needs_background": "light"
          }
        }
      ]
    },
    {
      "cell_type": "markdown",
      "metadata": {
        "id": "zyB3ssoyvR5L",
        "colab_type": "text"
      },
      "source": [
        "**Multiple plots on the same canvas**"
      ]
    },
    {
      "cell_type": "code",
      "metadata": {
        "id": "k1a9XStDvvX8",
        "colab_type": "code",
        "colab": {
          "base_uri": "https://localhost:8080/",
          "height": 265
        },
        "outputId": "bcc4ccb1-7e19-49df-8daa-b9ade426edf5"
      },
      "source": [
        "#plt.subplot(nrows, ncols, index)\n",
        "plt.subplot(1, 2, 1)\n",
        "plt.plot(X,y, 'r--')\n",
        "plt.subplot(1, 2, 2)\n",
        "plt.plot(y,X, 'b--')\n",
        "plt.show()"
      ],
      "execution_count": 9,
      "outputs": [
        {
          "output_type": "display_data",
          "data": {
            "image/png": "[encoded data removed]",
            "text/plain": [
              "<Figure size 432x288 with 2 Axes>"
            ]
          },
          "metadata": {
            "tags": [],
            "needs_background": "light"
          }
        }
      ]
    },
    {
      "cell_type": "code",
      "metadata": {
        "id": "rfC3304Ora2X",
        "colab_type": "code",
        "colab": {}
      },
      "source": [
        "#create a random list in python"
      ],
      "execution_count": 10,
      "outputs": []
    },
    {
      "cell_type": "code",
      "metadata": {
        "id": "7Pwr3u2grpJZ",
        "colab_type": "code",
        "colab": {
          "base_uri": "https://localhost:8080/",
          "height": 302
        },
        "outputId": "f50da402-e863-456a-a800-6c4f3696895d"
      },
      "source": [
        "from random import sample\n",
        "data=sample(range(1000), 50)\n",
        "print(data)\n",
        "#plotting a histogram\n",
        "plt.hist(data)\n",
        "plt.show()"
      ],
      "execution_count": 11,
      "outputs": [
        {
          "output_type": "stream",
          "text": [
            "[206, 66, 393, 637, 857, 693, 208, 76, 95, 896, 697, 442, 389, 811, 23, 64, 207, 548, 863, 646, 562, 856, 63, 38, 874, 472, 689, 307, 986, 119, 490, 124, 506, 519, 686, 304, 920, 894, 819, 86, 812, 9, 522, 657, 618, 609, 161, 830, 425, 832]\n"
          ],
          "name": "stdout"
        },
        {
          "output_type": "display_data",
          "data": {
            "image/png": "[encoded data removed]",
            "text/plain": [
              "<Figure size 432x288 with 1 Axes>"
            ]
          },
          "metadata": {
            "tags": [],
            "needs_background": "light"
          }
        }
      ]
    }
  ]
}