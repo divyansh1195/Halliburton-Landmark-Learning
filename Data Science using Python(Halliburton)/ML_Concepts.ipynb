{
  "nbformat": 4,
  "nbformat_minor": 0,
  "metadata": {
    "colab": {
      "name": "ML Concepts.ipynb",
      "provenance": [],
      "collapsed_sections": [],
      "authorship_tag": "ABX9TyNUze1367rS2SqA20nxmtDY",
      "include_colab_link": true
    },
    "kernelspec": {
      "name": "python3",
      "display_name": "Python 3"
    }
  },
  "cells": [
    {
      "cell_type": "markdown",
      "metadata": {
        "id": "view-in-github",
        "colab_type": "text"
      },
      "source": [
        "<a href=\"https://colab.research.google.com/github/divyansh1195/Halliburton-Landmark-Learning/blob/master/Data%20Science%20using%20Python(Halliburton)/ML_Concepts.ipynb\" target=\"_parent\"><img src=\"https://colab.research.google.com/assets/colab-badge.svg\" alt=\"Open In Colab\"/></a>"
      ]
    },
    {
      "cell_type": "code",
      "metadata": {
        "id": "hz54aD3tE1iO",
        "colab_type": "code",
        "colab": {
          "base_uri": "https://localhost:8080/",
          "height": 71
        },
        "outputId": "7625f38d-cfc9-4a60-d5a3-2dffe2bacc42"
      },
      "source": [
        "#importing the libraries\n",
        "import numpy as np\n",
        "import pandas as pd\n",
        "import matplotlib.pyplot as plt\n",
        "import tensorflow as tf\n",
        "import seaborn as sns\n",
        "from datetime import datetime"
      ],
      "execution_count": 1,
      "outputs": [
        {
          "output_type": "stream",
          "text": [
            "/usr/local/lib/python3.6/dist-packages/statsmodels/tools/_testing.py:19: FutureWarning: pandas.util.testing is deprecated. Use the functions in the public API at pandas.testing instead.\n",
            "  import pandas.util.testing as tm\n"
          ],
          "name": "stderr"
        }
      ]
    },
    {
      "cell_type": "code",
      "metadata": {
        "id": "KU7Tdq_nFB2L",
        "colab_type": "code",
        "colab": {}
      },
      "source": [
        "dataset=pd.read_csv('facies_labels.csv')"
      ],
      "execution_count": 2,
      "outputs": []
    },
    {
      "cell_type": "code",
      "metadata": {
        "id": "p1p18PbEFJkm",
        "colab_type": "code",
        "colab": {
          "base_uri": "https://localhost:8080/",
          "height": 419
        },
        "outputId": "3c77af6e-70a2-4ce8-9f05-ed3449ecfe4b"
      },
      "source": [
        "dataset"
      ],
      "execution_count": 3,
      "outputs": [
        {
          "output_type": "execute_result",
          "data": {
            "text/html": [
              "<div>\n",
              "<style scoped>\n",
              "    .dataframe tbody tr th:only-of-type {\n",
              "        vertical-align: middle;\n",
              "    }\n",
              "\n",
              "    .dataframe tbody tr th {\n",
              "        vertical-align: top;\n",
              "    }\n",
              "\n",
              "    .dataframe thead th {\n",
              "        text-align: right;\n",
              "    }\n",
              "</style>\n",
              "<table border=\"1\" class=\"dataframe\">\n",
              "  <thead>\n",
              "    <tr style=\"text-align: right;\">\n",
              "      <th></th>\n",
              "      <th>Depth</th>\n",
              "      <th>GR</th>\n",
              "      <th>ILD_log10</th>\n",
              "      <th>DeltaPHI</th>\n",
              "      <th>PHIND</th>\n",
              "      <th>PE</th>\n",
              "      <th>Facies</th>\n",
              "      <th>WellName</th>\n",
              "      <th>FaciesLabel</th>\n",
              "      <th>FaciesDescription</th>\n",
              "    </tr>\n",
              "  </thead>\n",
              "  <tbody>\n",
              "    <tr>\n",
              "      <th>0</th>\n",
              "      <td>2793.0</td>\n",
              "      <td>77.450</td>\n",
              "      <td>0.664</td>\n",
              "      <td>9.900</td>\n",
              "      <td>11.915</td>\n",
              "      <td>4.600</td>\n",
              "      <td>3</td>\n",
              "      <td>SHRIMPLIN</td>\n",
              "      <td>FSiS</td>\n",
              "      <td>Nonmarine fine siltstone</td>\n",
              "    </tr>\n",
              "    <tr>\n",
              "      <th>1</th>\n",
              "      <td>2793.5</td>\n",
              "      <td>78.260</td>\n",
              "      <td>0.661</td>\n",
              "      <td>14.200</td>\n",
              "      <td>12.565</td>\n",
              "      <td>4.100</td>\n",
              "      <td>3</td>\n",
              "      <td>SHRIMPLIN</td>\n",
              "      <td>FSiS</td>\n",
              "      <td>Nonmarine fine siltstone</td>\n",
              "    </tr>\n",
              "    <tr>\n",
              "      <th>2</th>\n",
              "      <td>2794.0</td>\n",
              "      <td>79.050</td>\n",
              "      <td>0.658</td>\n",
              "      <td>14.800</td>\n",
              "      <td>13.050</td>\n",
              "      <td>3.600</td>\n",
              "      <td>3</td>\n",
              "      <td>SHRIMPLIN</td>\n",
              "      <td>FSiS</td>\n",
              "      <td>Nonmarine fine siltstone</td>\n",
              "    </tr>\n",
              "    <tr>\n",
              "      <th>3</th>\n",
              "      <td>2794.5</td>\n",
              "      <td>86.100</td>\n",
              "      <td>0.655</td>\n",
              "      <td>13.900</td>\n",
              "      <td>13.115</td>\n",
              "      <td>3.500</td>\n",
              "      <td>3</td>\n",
              "      <td>SHRIMPLIN</td>\n",
              "      <td>FSiS</td>\n",
              "      <td>Nonmarine fine siltstone</td>\n",
              "    </tr>\n",
              "    <tr>\n",
              "      <th>4</th>\n",
              "      <td>2795.0</td>\n",
              "      <td>74.580</td>\n",
              "      <td>0.647</td>\n",
              "      <td>13.500</td>\n",
              "      <td>13.300</td>\n",
              "      <td>3.400</td>\n",
              "      <td>3</td>\n",
              "      <td>SHRIMPLIN</td>\n",
              "      <td>FSiS</td>\n",
              "      <td>Nonmarine fine siltstone</td>\n",
              "    </tr>\n",
              "    <tr>\n",
              "      <th>...</th>\n",
              "      <td>...</td>\n",
              "      <td>...</td>\n",
              "      <td>...</td>\n",
              "      <td>...</td>\n",
              "      <td>...</td>\n",
              "      <td>...</td>\n",
              "      <td>...</td>\n",
              "      <td>...</td>\n",
              "      <td>...</td>\n",
              "      <td>...</td>\n",
              "    </tr>\n",
              "    <tr>\n",
              "      <th>4144</th>\n",
              "      <td>3120.5</td>\n",
              "      <td>46.719</td>\n",
              "      <td>0.947</td>\n",
              "      <td>1.828</td>\n",
              "      <td>7.254</td>\n",
              "      <td>3.617</td>\n",
              "      <td>5</td>\n",
              "      <td>CHURCHMAN BIBLE</td>\n",
              "      <td>MS</td>\n",
              "      <td>Mudstone</td>\n",
              "    </tr>\n",
              "    <tr>\n",
              "      <th>4145</th>\n",
              "      <td>3121.0</td>\n",
              "      <td>44.563</td>\n",
              "      <td>0.953</td>\n",
              "      <td>2.241</td>\n",
              "      <td>8.013</td>\n",
              "      <td>3.344</td>\n",
              "      <td>5</td>\n",
              "      <td>CHURCHMAN BIBLE</td>\n",
              "      <td>MS</td>\n",
              "      <td>Mudstone</td>\n",
              "    </tr>\n",
              "    <tr>\n",
              "      <th>4146</th>\n",
              "      <td>3121.5</td>\n",
              "      <td>49.719</td>\n",
              "      <td>0.964</td>\n",
              "      <td>2.925</td>\n",
              "      <td>8.013</td>\n",
              "      <td>3.190</td>\n",
              "      <td>5</td>\n",
              "      <td>CHURCHMAN BIBLE</td>\n",
              "      <td>MS</td>\n",
              "      <td>Mudstone</td>\n",
              "    </tr>\n",
              "    <tr>\n",
              "      <th>4147</th>\n",
              "      <td>3122.0</td>\n",
              "      <td>51.469</td>\n",
              "      <td>0.965</td>\n",
              "      <td>3.083</td>\n",
              "      <td>7.708</td>\n",
              "      <td>3.152</td>\n",
              "      <td>5</td>\n",
              "      <td>CHURCHMAN BIBLE</td>\n",
              "      <td>MS</td>\n",
              "      <td>Mudstone</td>\n",
              "    </tr>\n",
              "    <tr>\n",
              "      <th>4148</th>\n",
              "      <td>3122.5</td>\n",
              "      <td>50.031</td>\n",
              "      <td>0.970</td>\n",
              "      <td>2.609</td>\n",
              "      <td>6.668</td>\n",
              "      <td>3.295</td>\n",
              "      <td>5</td>\n",
              "      <td>CHURCHMAN BIBLE</td>\n",
              "      <td>MS</td>\n",
              "      <td>Mudstone</td>\n",
              "    </tr>\n",
              "  </tbody>\n",
              "</table>\n",
              "<p>4149 rows × 10 columns</p>\n",
              "</div>"
            ],
            "text/plain": [
              "       Depth      GR  ...  FaciesLabel         FaciesDescription\n",
              "0     2793.0  77.450  ...         FSiS  Nonmarine fine siltstone\n",
              "1     2793.5  78.260  ...         FSiS  Nonmarine fine siltstone\n",
              "2     2794.0  79.050  ...         FSiS  Nonmarine fine siltstone\n",
              "3     2794.5  86.100  ...         FSiS  Nonmarine fine siltstone\n",
              "4     2795.0  74.580  ...         FSiS  Nonmarine fine siltstone\n",
              "...      ...     ...  ...          ...                       ...\n",
              "4144  3120.5  46.719  ...           MS                  Mudstone\n",
              "4145  3121.0  44.563  ...           MS                  Mudstone\n",
              "4146  3121.5  49.719  ...           MS                  Mudstone\n",
              "4147  3122.0  51.469  ...           MS                  Mudstone\n",
              "4148  3122.5  50.031  ...           MS                  Mudstone\n",
              "\n",
              "[4149 rows x 10 columns]"
            ]
          },
          "metadata": {
            "tags": []
          },
          "execution_count": 3
        }
      ]
    },
    {
      "cell_type": "code",
      "metadata": {
        "id": "KhGTFbycFN1I",
        "colab_type": "code",
        "colab": {
          "base_uri": "https://localhost:8080/",
          "height": 306
        },
        "outputId": "9ae05d34-dd76-4a92-dc36-51fc1c18b3c8"
      },
      "source": [
        "dataset.info()"
      ],
      "execution_count": 4,
      "outputs": [
        {
          "output_type": "stream",
          "text": [
            "<class 'pandas.core.frame.DataFrame'>\n",
            "RangeIndex: 4149 entries, 0 to 4148\n",
            "Data columns (total 10 columns):\n",
            " #   Column             Non-Null Count  Dtype  \n",
            "---  ------             --------------  -----  \n",
            " 0   Depth              4149 non-null   float64\n",
            " 1   GR                 4149 non-null   float64\n",
            " 2   ILD_log10          4149 non-null   float64\n",
            " 3   DeltaPHI           4149 non-null   float64\n",
            " 4   PHIND              4149 non-null   float64\n",
            " 5   PE                 3232 non-null   float64\n",
            " 6   Facies             4149 non-null   int64  \n",
            " 7   WellName           4149 non-null   object \n",
            " 8   FaciesLabel        4149 non-null   object \n",
            " 9   FaciesDescription  4149 non-null   object \n",
            "dtypes: float64(6), int64(1), object(3)\n",
            "memory usage: 324.3+ KB\n"
          ],
          "name": "stdout"
        }
      ]
    },
    {
      "cell_type": "code",
      "metadata": {
        "id": "ImBKsq9NFqSA",
        "colab_type": "code",
        "colab": {}
      },
      "source": [
        "#ever column has 4149 records except PE, which shows that data is missing"
      ],
      "execution_count": 5,
      "outputs": []
    },
    {
      "cell_type": "markdown",
      "metadata": {
        "id": "v8B6dsWmFSfL",
        "colab_type": "text"
      },
      "source": [
        "**EXPLORATORY DATA ANALYSIS**"
      ]
    },
    {
      "cell_type": "code",
      "metadata": {
        "id": "_kiqxrGOFWWk",
        "colab_type": "code",
        "colab": {
          "base_uri": "https://localhost:8080/",
          "height": 204
        },
        "outputId": "3f9226a3-9c60-4065-800a-cc22e13e02e3"
      },
      "source": [
        "dataset['WellName'].value_counts()\n",
        "#count no. of wells and no. records of each well"
      ],
      "execution_count": 6,
      "outputs": [
        {
          "output_type": "execute_result",
          "data": {
            "text/plain": [
              "CROSS H CATTLE     501\n",
              "SHRIMPLIN          471\n",
              "ALEXANDER D        466\n",
              "NEWBY              463\n",
              "LUKE G U           461\n",
              "SHANKLE            449\n",
              "KIMZEY A           439\n",
              "NOLAN              415\n",
              "CHURCHMAN BIBLE    404\n",
              "Recruit F9          80\n",
              "Name: WellName, dtype: int64"
            ]
          },
          "metadata": {
            "tags": []
          },
          "execution_count": 6
        }
      ]
    },
    {
      "cell_type": "code",
      "metadata": {
        "id": "0RKEoLjKF_6B",
        "colab_type": "code",
        "colab": {
          "base_uri": "https://localhost:8080/",
          "height": 204
        },
        "outputId": "36d56a9a-01f2-4065-db70-d672f6fba8fb"
      },
      "source": [
        "#Data Preprocessing\n",
        "#Taking Care of Missing Data\n",
        "dataset[dataset.isnull().any(axis=1)].head()#axis=1 -> iterate through rows"
      ],
      "execution_count": 7,
      "outputs": [
        {
          "output_type": "execute_result",
          "data": {
            "text/html": [
              "<div>\n",
              "<style scoped>\n",
              "    .dataframe tbody tr th:only-of-type {\n",
              "        vertical-align: middle;\n",
              "    }\n",
              "\n",
              "    .dataframe tbody tr th {\n",
              "        vertical-align: top;\n",
              "    }\n",
              "\n",
              "    .dataframe thead th {\n",
              "        text-align: right;\n",
              "    }\n",
              "</style>\n",
              "<table border=\"1\" class=\"dataframe\">\n",
              "  <thead>\n",
              "    <tr style=\"text-align: right;\">\n",
              "      <th></th>\n",
              "      <th>Depth</th>\n",
              "      <th>GR</th>\n",
              "      <th>ILD_log10</th>\n",
              "      <th>DeltaPHI</th>\n",
              "      <th>PHIND</th>\n",
              "      <th>PE</th>\n",
              "      <th>Facies</th>\n",
              "      <th>WellName</th>\n",
              "      <th>FaciesLabel</th>\n",
              "      <th>FaciesDescription</th>\n",
              "    </tr>\n",
              "  </thead>\n",
              "  <tbody>\n",
              "    <tr>\n",
              "      <th>471</th>\n",
              "      <td>2887.5</td>\n",
              "      <td>88.71</td>\n",
              "      <td>0.612</td>\n",
              "      <td>6.7</td>\n",
              "      <td>10.605</td>\n",
              "      <td>NaN</td>\n",
              "      <td>3</td>\n",
              "      <td>ALEXANDER D</td>\n",
              "      <td>FSiS</td>\n",
              "      <td>Nonmarine fine siltstone</td>\n",
              "    </tr>\n",
              "    <tr>\n",
              "      <th>472</th>\n",
              "      <td>2888.0</td>\n",
              "      <td>92.71</td>\n",
              "      <td>0.583</td>\n",
              "      <td>11.0</td>\n",
              "      <td>12.515</td>\n",
              "      <td>NaN</td>\n",
              "      <td>3</td>\n",
              "      <td>ALEXANDER D</td>\n",
              "      <td>FSiS</td>\n",
              "      <td>Nonmarine fine siltstone</td>\n",
              "    </tr>\n",
              "    <tr>\n",
              "      <th>473</th>\n",
              "      <td>2888.5</td>\n",
              "      <td>94.54</td>\n",
              "      <td>0.579</td>\n",
              "      <td>12.0</td>\n",
              "      <td>13.410</td>\n",
              "      <td>NaN</td>\n",
              "      <td>3</td>\n",
              "      <td>ALEXANDER D</td>\n",
              "      <td>FSiS</td>\n",
              "      <td>Nonmarine fine siltstone</td>\n",
              "    </tr>\n",
              "    <tr>\n",
              "      <th>474</th>\n",
              "      <td>2889.0</td>\n",
              "      <td>95.31</td>\n",
              "      <td>0.579</td>\n",
              "      <td>11.5</td>\n",
              "      <td>13.750</td>\n",
              "      <td>NaN</td>\n",
              "      <td>3</td>\n",
              "      <td>ALEXANDER D</td>\n",
              "      <td>FSiS</td>\n",
              "      <td>Nonmarine fine siltstone</td>\n",
              "    </tr>\n",
              "    <tr>\n",
              "      <th>475</th>\n",
              "      <td>2889.5</td>\n",
              "      <td>93.79</td>\n",
              "      <td>0.572</td>\n",
              "      <td>10.3</td>\n",
              "      <td>13.405</td>\n",
              "      <td>NaN</td>\n",
              "      <td>3</td>\n",
              "      <td>ALEXANDER D</td>\n",
              "      <td>FSiS</td>\n",
              "      <td>Nonmarine fine siltstone</td>\n",
              "    </tr>\n",
              "  </tbody>\n",
              "</table>\n",
              "</div>"
            ],
            "text/plain": [
              "      Depth     GR  ...  FaciesLabel         FaciesDescription\n",
              "471  2887.5  88.71  ...         FSiS  Nonmarine fine siltstone\n",
              "472  2888.0  92.71  ...         FSiS  Nonmarine fine siltstone\n",
              "473  2888.5  94.54  ...         FSiS  Nonmarine fine siltstone\n",
              "474  2889.0  95.31  ...         FSiS  Nonmarine fine siltstone\n",
              "475  2889.5  93.79  ...         FSiS  Nonmarine fine siltstone\n",
              "\n",
              "[5 rows x 10 columns]"
            ]
          },
          "metadata": {
            "tags": []
          },
          "execution_count": 7
        }
      ]
    },
    {
      "cell_type": "code",
      "metadata": {
        "id": "xy3IpUf6GcYH",
        "colab_type": "code",
        "colab": {
          "base_uri": "https://localhost:8080/",
          "height": 68
        },
        "outputId": "aa922a62-9348-44e0-ca79-86ecdc5b46c4"
      },
      "source": [
        "dataset['PE'].isnull().value_counts()#missing values in PE"
      ],
      "execution_count": 8,
      "outputs": [
        {
          "output_type": "execute_result",
          "data": {
            "text/plain": [
              "False    3232\n",
              "True      917\n",
              "Name: PE, dtype: int64"
            ]
          },
          "metadata": {
            "tags": []
          },
          "execution_count": 8
        }
      ]
    },
    {
      "cell_type": "code",
      "metadata": {
        "id": "eB9v05YHHBPB",
        "colab_type": "code",
        "colab": {
          "base_uri": "https://localhost:8080/",
          "height": 306
        },
        "outputId": "4c14d10c-1c06-41ec-a622-3e8836dc6b68"
      },
      "source": [
        "#\"dropna()\" removes the rows where the data is missing\n",
        "dataset_na=dataset.dropna()\n",
        "dataset_na.info()"
      ],
      "execution_count": 9,
      "outputs": [
        {
          "output_type": "stream",
          "text": [
            "<class 'pandas.core.frame.DataFrame'>\n",
            "Int64Index: 3232 entries, 0 to 4148\n",
            "Data columns (total 10 columns):\n",
            " #   Column             Non-Null Count  Dtype  \n",
            "---  ------             --------------  -----  \n",
            " 0   Depth              3232 non-null   float64\n",
            " 1   GR                 3232 non-null   float64\n",
            " 2   ILD_log10          3232 non-null   float64\n",
            " 3   DeltaPHI           3232 non-null   float64\n",
            " 4   PHIND              3232 non-null   float64\n",
            " 5   PE                 3232 non-null   float64\n",
            " 6   Facies             3232 non-null   int64  \n",
            " 7   WellName           3232 non-null   object \n",
            " 8   FaciesLabel        3232 non-null   object \n",
            " 9   FaciesDescription  3232 non-null   object \n",
            "dtypes: float64(6), int64(1), object(3)\n",
            "memory usage: 277.8+ KB\n"
          ],
          "name": "stdout"
        }
      ]
    },
    {
      "cell_type": "code",
      "metadata": {
        "id": "VZGADKLIHs_3",
        "colab_type": "code",
        "colab": {
          "base_uri": "https://localhost:8080/",
          "height": 359
        },
        "outputId": "609e88b0-51c2-4caf-8ddf-3f6054f00499"
      },
      "source": [
        "dataset_na.head(10)#first 10 rows after removal"
      ],
      "execution_count": 10,
      "outputs": [
        {
          "output_type": "execute_result",
          "data": {
            "text/html": [
              "<div>\n",
              "<style scoped>\n",
              "    .dataframe tbody tr th:only-of-type {\n",
              "        vertical-align: middle;\n",
              "    }\n",
              "\n",
              "    .dataframe tbody tr th {\n",
              "        vertical-align: top;\n",
              "    }\n",
              "\n",
              "    .dataframe thead th {\n",
              "        text-align: right;\n",
              "    }\n",
              "</style>\n",
              "<table border=\"1\" class=\"dataframe\">\n",
              "  <thead>\n",
              "    <tr style=\"text-align: right;\">\n",
              "      <th></th>\n",
              "      <th>Depth</th>\n",
              "      <th>GR</th>\n",
              "      <th>ILD_log10</th>\n",
              "      <th>DeltaPHI</th>\n",
              "      <th>PHIND</th>\n",
              "      <th>PE</th>\n",
              "      <th>Facies</th>\n",
              "      <th>WellName</th>\n",
              "      <th>FaciesLabel</th>\n",
              "      <th>FaciesDescription</th>\n",
              "    </tr>\n",
              "  </thead>\n",
              "  <tbody>\n",
              "    <tr>\n",
              "      <th>0</th>\n",
              "      <td>2793.0</td>\n",
              "      <td>77.45</td>\n",
              "      <td>0.664</td>\n",
              "      <td>9.9</td>\n",
              "      <td>11.915</td>\n",
              "      <td>4.6</td>\n",
              "      <td>3</td>\n",
              "      <td>SHRIMPLIN</td>\n",
              "      <td>FSiS</td>\n",
              "      <td>Nonmarine fine siltstone</td>\n",
              "    </tr>\n",
              "    <tr>\n",
              "      <th>1</th>\n",
              "      <td>2793.5</td>\n",
              "      <td>78.26</td>\n",
              "      <td>0.661</td>\n",
              "      <td>14.2</td>\n",
              "      <td>12.565</td>\n",
              "      <td>4.1</td>\n",
              "      <td>3</td>\n",
              "      <td>SHRIMPLIN</td>\n",
              "      <td>FSiS</td>\n",
              "      <td>Nonmarine fine siltstone</td>\n",
              "    </tr>\n",
              "    <tr>\n",
              "      <th>2</th>\n",
              "      <td>2794.0</td>\n",
              "      <td>79.05</td>\n",
              "      <td>0.658</td>\n",
              "      <td>14.8</td>\n",
              "      <td>13.050</td>\n",
              "      <td>3.6</td>\n",
              "      <td>3</td>\n",
              "      <td>SHRIMPLIN</td>\n",
              "      <td>FSiS</td>\n",
              "      <td>Nonmarine fine siltstone</td>\n",
              "    </tr>\n",
              "    <tr>\n",
              "      <th>3</th>\n",
              "      <td>2794.5</td>\n",
              "      <td>86.10</td>\n",
              "      <td>0.655</td>\n",
              "      <td>13.9</td>\n",
              "      <td>13.115</td>\n",
              "      <td>3.5</td>\n",
              "      <td>3</td>\n",
              "      <td>SHRIMPLIN</td>\n",
              "      <td>FSiS</td>\n",
              "      <td>Nonmarine fine siltstone</td>\n",
              "    </tr>\n",
              "    <tr>\n",
              "      <th>4</th>\n",
              "      <td>2795.0</td>\n",
              "      <td>74.58</td>\n",
              "      <td>0.647</td>\n",
              "      <td>13.5</td>\n",
              "      <td>13.300</td>\n",
              "      <td>3.4</td>\n",
              "      <td>3</td>\n",
              "      <td>SHRIMPLIN</td>\n",
              "      <td>FSiS</td>\n",
              "      <td>Nonmarine fine siltstone</td>\n",
              "    </tr>\n",
              "    <tr>\n",
              "      <th>5</th>\n",
              "      <td>2795.5</td>\n",
              "      <td>73.97</td>\n",
              "      <td>0.636</td>\n",
              "      <td>14.0</td>\n",
              "      <td>13.385</td>\n",
              "      <td>3.6</td>\n",
              "      <td>3</td>\n",
              "      <td>SHRIMPLIN</td>\n",
              "      <td>FSiS</td>\n",
              "      <td>Nonmarine fine siltstone</td>\n",
              "    </tr>\n",
              "    <tr>\n",
              "      <th>6</th>\n",
              "      <td>2796.0</td>\n",
              "      <td>73.72</td>\n",
              "      <td>0.630</td>\n",
              "      <td>15.6</td>\n",
              "      <td>13.930</td>\n",
              "      <td>3.7</td>\n",
              "      <td>3</td>\n",
              "      <td>SHRIMPLIN</td>\n",
              "      <td>FSiS</td>\n",
              "      <td>Nonmarine fine siltstone</td>\n",
              "    </tr>\n",
              "    <tr>\n",
              "      <th>7</th>\n",
              "      <td>2796.5</td>\n",
              "      <td>75.65</td>\n",
              "      <td>0.625</td>\n",
              "      <td>16.5</td>\n",
              "      <td>13.920</td>\n",
              "      <td>3.5</td>\n",
              "      <td>3</td>\n",
              "      <td>SHRIMPLIN</td>\n",
              "      <td>FSiS</td>\n",
              "      <td>Nonmarine fine siltstone</td>\n",
              "    </tr>\n",
              "    <tr>\n",
              "      <th>8</th>\n",
              "      <td>2797.0</td>\n",
              "      <td>73.79</td>\n",
              "      <td>0.624</td>\n",
              "      <td>16.2</td>\n",
              "      <td>13.980</td>\n",
              "      <td>3.4</td>\n",
              "      <td>3</td>\n",
              "      <td>SHRIMPLIN</td>\n",
              "      <td>FSiS</td>\n",
              "      <td>Nonmarine fine siltstone</td>\n",
              "    </tr>\n",
              "    <tr>\n",
              "      <th>9</th>\n",
              "      <td>2797.5</td>\n",
              "      <td>76.89</td>\n",
              "      <td>0.615</td>\n",
              "      <td>16.9</td>\n",
              "      <td>14.220</td>\n",
              "      <td>3.5</td>\n",
              "      <td>3</td>\n",
              "      <td>SHRIMPLIN</td>\n",
              "      <td>FSiS</td>\n",
              "      <td>Nonmarine fine siltstone</td>\n",
              "    </tr>\n",
              "  </tbody>\n",
              "</table>\n",
              "</div>"
            ],
            "text/plain": [
              "    Depth     GR  ILD_log10  ...   WellName  FaciesLabel         FaciesDescription\n",
              "0  2793.0  77.45      0.664  ...  SHRIMPLIN         FSiS  Nonmarine fine siltstone\n",
              "1  2793.5  78.26      0.661  ...  SHRIMPLIN         FSiS  Nonmarine fine siltstone\n",
              "2  2794.0  79.05      0.658  ...  SHRIMPLIN         FSiS  Nonmarine fine siltstone\n",
              "3  2794.5  86.10      0.655  ...  SHRIMPLIN         FSiS  Nonmarine fine siltstone\n",
              "4  2795.0  74.58      0.647  ...  SHRIMPLIN         FSiS  Nonmarine fine siltstone\n",
              "5  2795.5  73.97      0.636  ...  SHRIMPLIN         FSiS  Nonmarine fine siltstone\n",
              "6  2796.0  73.72      0.630  ...  SHRIMPLIN         FSiS  Nonmarine fine siltstone\n",
              "7  2796.5  75.65      0.625  ...  SHRIMPLIN         FSiS  Nonmarine fine siltstone\n",
              "8  2797.0  73.79      0.624  ...  SHRIMPLIN         FSiS  Nonmarine fine siltstone\n",
              "9  2797.5  76.89      0.615  ...  SHRIMPLIN         FSiS  Nonmarine fine siltstone\n",
              "\n",
              "[10 rows x 10 columns]"
            ]
          },
          "metadata": {
            "tags": []
          },
          "execution_count": 10
        }
      ]
    },
    {
      "cell_type": "markdown",
      "metadata": {
        "id": "8hx2wz_5pOq6",
        "colab_type": "text"
      },
      "source": [
        "**REMOVE UNWANTED COLUMNS**"
      ]
    },
    {
      "cell_type": "code",
      "metadata": {
        "id": "h7NNk1IppTpk",
        "colab_type": "code",
        "colab": {}
      },
      "source": [
        "#ML doesn't work with Categorical / Alphabetical data. So, remove the categorical data from dataset."
      ],
      "execution_count": 11,
      "outputs": []
    },
    {
      "cell_type": "code",
      "metadata": {
        "id": "onlGqbVgxQnT",
        "colab_type": "code",
        "colab": {
          "base_uri": "https://localhost:8080/",
          "height": 444
        },
        "outputId": "a79fec1c-79f5-485e-f092-8620e57ff45b"
      },
      "source": [
        "dataset_na.drop(['WellName','FaciesLabel', 'FaciesDescription'], axis=1, inplace=True)\n",
        "dataset_na.head(10)"
      ],
      "execution_count": 12,
      "outputs": [
        {
          "output_type": "stream",
          "text": [
            "/usr/local/lib/python3.6/dist-packages/pandas/core/frame.py:3997: SettingWithCopyWarning: \n",
            "A value is trying to be set on a copy of a slice from a DataFrame\n",
            "\n",
            "See the caveats in the documentation: https://pandas.pydata.org/pandas-docs/stable/user_guide/indexing.html#returning-a-view-versus-a-copy\n",
            "  errors=errors,\n"
          ],
          "name": "stderr"
        },
        {
          "output_type": "execute_result",
          "data": {
            "text/html": [
              "<div>\n",
              "<style scoped>\n",
              "    .dataframe tbody tr th:only-of-type {\n",
              "        vertical-align: middle;\n",
              "    }\n",
              "\n",
              "    .dataframe tbody tr th {\n",
              "        vertical-align: top;\n",
              "    }\n",
              "\n",
              "    .dataframe thead th {\n",
              "        text-align: right;\n",
              "    }\n",
              "</style>\n",
              "<table border=\"1\" class=\"dataframe\">\n",
              "  <thead>\n",
              "    <tr style=\"text-align: right;\">\n",
              "      <th></th>\n",
              "      <th>Depth</th>\n",
              "      <th>GR</th>\n",
              "      <th>ILD_log10</th>\n",
              "      <th>DeltaPHI</th>\n",
              "      <th>PHIND</th>\n",
              "      <th>PE</th>\n",
              "      <th>Facies</th>\n",
              "    </tr>\n",
              "  </thead>\n",
              "  <tbody>\n",
              "    <tr>\n",
              "      <th>0</th>\n",
              "      <td>2793.0</td>\n",
              "      <td>77.45</td>\n",
              "      <td>0.664</td>\n",
              "      <td>9.9</td>\n",
              "      <td>11.915</td>\n",
              "      <td>4.6</td>\n",
              "      <td>3</td>\n",
              "    </tr>\n",
              "    <tr>\n",
              "      <th>1</th>\n",
              "      <td>2793.5</td>\n",
              "      <td>78.26</td>\n",
              "      <td>0.661</td>\n",
              "      <td>14.2</td>\n",
              "      <td>12.565</td>\n",
              "      <td>4.1</td>\n",
              "      <td>3</td>\n",
              "    </tr>\n",
              "    <tr>\n",
              "      <th>2</th>\n",
              "      <td>2794.0</td>\n",
              "      <td>79.05</td>\n",
              "      <td>0.658</td>\n",
              "      <td>14.8</td>\n",
              "      <td>13.050</td>\n",
              "      <td>3.6</td>\n",
              "      <td>3</td>\n",
              "    </tr>\n",
              "    <tr>\n",
              "      <th>3</th>\n",
              "      <td>2794.5</td>\n",
              "      <td>86.10</td>\n",
              "      <td>0.655</td>\n",
              "      <td>13.9</td>\n",
              "      <td>13.115</td>\n",
              "      <td>3.5</td>\n",
              "      <td>3</td>\n",
              "    </tr>\n",
              "    <tr>\n",
              "      <th>4</th>\n",
              "      <td>2795.0</td>\n",
              "      <td>74.58</td>\n",
              "      <td>0.647</td>\n",
              "      <td>13.5</td>\n",
              "      <td>13.300</td>\n",
              "      <td>3.4</td>\n",
              "      <td>3</td>\n",
              "    </tr>\n",
              "    <tr>\n",
              "      <th>5</th>\n",
              "      <td>2795.5</td>\n",
              "      <td>73.97</td>\n",
              "      <td>0.636</td>\n",
              "      <td>14.0</td>\n",
              "      <td>13.385</td>\n",
              "      <td>3.6</td>\n",
              "      <td>3</td>\n",
              "    </tr>\n",
              "    <tr>\n",
              "      <th>6</th>\n",
              "      <td>2796.0</td>\n",
              "      <td>73.72</td>\n",
              "      <td>0.630</td>\n",
              "      <td>15.6</td>\n",
              "      <td>13.930</td>\n",
              "      <td>3.7</td>\n",
              "      <td>3</td>\n",
              "    </tr>\n",
              "    <tr>\n",
              "      <th>7</th>\n",
              "      <td>2796.5</td>\n",
              "      <td>75.65</td>\n",
              "      <td>0.625</td>\n",
              "      <td>16.5</td>\n",
              "      <td>13.920</td>\n",
              "      <td>3.5</td>\n",
              "      <td>3</td>\n",
              "    </tr>\n",
              "    <tr>\n",
              "      <th>8</th>\n",
              "      <td>2797.0</td>\n",
              "      <td>73.79</td>\n",
              "      <td>0.624</td>\n",
              "      <td>16.2</td>\n",
              "      <td>13.980</td>\n",
              "      <td>3.4</td>\n",
              "      <td>3</td>\n",
              "    </tr>\n",
              "    <tr>\n",
              "      <th>9</th>\n",
              "      <td>2797.5</td>\n",
              "      <td>76.89</td>\n",
              "      <td>0.615</td>\n",
              "      <td>16.9</td>\n",
              "      <td>14.220</td>\n",
              "      <td>3.5</td>\n",
              "      <td>3</td>\n",
              "    </tr>\n",
              "  </tbody>\n",
              "</table>\n",
              "</div>"
            ],
            "text/plain": [
              "    Depth     GR  ILD_log10  DeltaPHI   PHIND   PE  Facies\n",
              "0  2793.0  77.45      0.664       9.9  11.915  4.6       3\n",
              "1  2793.5  78.26      0.661      14.2  12.565  4.1       3\n",
              "2  2794.0  79.05      0.658      14.8  13.050  3.6       3\n",
              "3  2794.5  86.10      0.655      13.9  13.115  3.5       3\n",
              "4  2795.0  74.58      0.647      13.5  13.300  3.4       3\n",
              "5  2795.5  73.97      0.636      14.0  13.385  3.6       3\n",
              "6  2796.0  73.72      0.630      15.6  13.930  3.7       3\n",
              "7  2796.5  75.65      0.625      16.5  13.920  3.5       3\n",
              "8  2797.0  73.79      0.624      16.2  13.980  3.4       3\n",
              "9  2797.5  76.89      0.615      16.9  14.220  3.5       3"
            ]
          },
          "metadata": {
            "tags": []
          },
          "execution_count": 12
        }
      ]
    },
    {
      "cell_type": "markdown",
      "metadata": {
        "id": "uJ_cor_i3Pzq",
        "colab_type": "text"
      },
      "source": [
        "**FEATURE SELECTION**"
      ]
    },
    {
      "cell_type": "code",
      "metadata": {
        "id": "k_6HYw7V3T74",
        "colab_type": "code",
        "colab": {
          "base_uri": "https://localhost:8080/",
          "height": 359
        },
        "outputId": "25f81402-3713-4f8e-80f6-bf746eeb50b5"
      },
      "source": [
        "#select features from the dataset\n",
        "features=['Depth', 'GR', 'ILD_log10','DeltaPHI','PHIND','PE']\n",
        "features_data=dataset_na[features]\n",
        "features_data.head(10)"
      ],
      "execution_count": 13,
      "outputs": [
        {
          "output_type": "execute_result",
          "data": {
            "text/html": [
              "<div>\n",
              "<style scoped>\n",
              "    .dataframe tbody tr th:only-of-type {\n",
              "        vertical-align: middle;\n",
              "    }\n",
              "\n",
              "    .dataframe tbody tr th {\n",
              "        vertical-align: top;\n",
              "    }\n",
              "\n",
              "    .dataframe thead th {\n",
              "        text-align: right;\n",
              "    }\n",
              "</style>\n",
              "<table border=\"1\" class=\"dataframe\">\n",
              "  <thead>\n",
              "    <tr style=\"text-align: right;\">\n",
              "      <th></th>\n",
              "      <th>Depth</th>\n",
              "      <th>GR</th>\n",
              "      <th>ILD_log10</th>\n",
              "      <th>DeltaPHI</th>\n",
              "      <th>PHIND</th>\n",
              "      <th>PE</th>\n",
              "    </tr>\n",
              "  </thead>\n",
              "  <tbody>\n",
              "    <tr>\n",
              "      <th>0</th>\n",
              "      <td>2793.0</td>\n",
              "      <td>77.45</td>\n",
              "      <td>0.664</td>\n",
              "      <td>9.9</td>\n",
              "      <td>11.915</td>\n",
              "      <td>4.6</td>\n",
              "    </tr>\n",
              "    <tr>\n",
              "      <th>1</th>\n",
              "      <td>2793.5</td>\n",
              "      <td>78.26</td>\n",
              "      <td>0.661</td>\n",
              "      <td>14.2</td>\n",
              "      <td>12.565</td>\n",
              "      <td>4.1</td>\n",
              "    </tr>\n",
              "    <tr>\n",
              "      <th>2</th>\n",
              "      <td>2794.0</td>\n",
              "      <td>79.05</td>\n",
              "      <td>0.658</td>\n",
              "      <td>14.8</td>\n",
              "      <td>13.050</td>\n",
              "      <td>3.6</td>\n",
              "    </tr>\n",
              "    <tr>\n",
              "      <th>3</th>\n",
              "      <td>2794.5</td>\n",
              "      <td>86.10</td>\n",
              "      <td>0.655</td>\n",
              "      <td>13.9</td>\n",
              "      <td>13.115</td>\n",
              "      <td>3.5</td>\n",
              "    </tr>\n",
              "    <tr>\n",
              "      <th>4</th>\n",
              "      <td>2795.0</td>\n",
              "      <td>74.58</td>\n",
              "      <td>0.647</td>\n",
              "      <td>13.5</td>\n",
              "      <td>13.300</td>\n",
              "      <td>3.4</td>\n",
              "    </tr>\n",
              "    <tr>\n",
              "      <th>5</th>\n",
              "      <td>2795.5</td>\n",
              "      <td>73.97</td>\n",
              "      <td>0.636</td>\n",
              "      <td>14.0</td>\n",
              "      <td>13.385</td>\n",
              "      <td>3.6</td>\n",
              "    </tr>\n",
              "    <tr>\n",
              "      <th>6</th>\n",
              "      <td>2796.0</td>\n",
              "      <td>73.72</td>\n",
              "      <td>0.630</td>\n",
              "      <td>15.6</td>\n",
              "      <td>13.930</td>\n",
              "      <td>3.7</td>\n",
              "    </tr>\n",
              "    <tr>\n",
              "      <th>7</th>\n",
              "      <td>2796.5</td>\n",
              "      <td>75.65</td>\n",
              "      <td>0.625</td>\n",
              "      <td>16.5</td>\n",
              "      <td>13.920</td>\n",
              "      <td>3.5</td>\n",
              "    </tr>\n",
              "    <tr>\n",
              "      <th>8</th>\n",
              "      <td>2797.0</td>\n",
              "      <td>73.79</td>\n",
              "      <td>0.624</td>\n",
              "      <td>16.2</td>\n",
              "      <td>13.980</td>\n",
              "      <td>3.4</td>\n",
              "    </tr>\n",
              "    <tr>\n",
              "      <th>9</th>\n",
              "      <td>2797.5</td>\n",
              "      <td>76.89</td>\n",
              "      <td>0.615</td>\n",
              "      <td>16.9</td>\n",
              "      <td>14.220</td>\n",
              "      <td>3.5</td>\n",
              "    </tr>\n",
              "  </tbody>\n",
              "</table>\n",
              "</div>"
            ],
            "text/plain": [
              "    Depth     GR  ILD_log10  DeltaPHI   PHIND   PE\n",
              "0  2793.0  77.45      0.664       9.9  11.915  4.6\n",
              "1  2793.5  78.26      0.661      14.2  12.565  4.1\n",
              "2  2794.0  79.05      0.658      14.8  13.050  3.6\n",
              "3  2794.5  86.10      0.655      13.9  13.115  3.5\n",
              "4  2795.0  74.58      0.647      13.5  13.300  3.4\n",
              "5  2795.5  73.97      0.636      14.0  13.385  3.6\n",
              "6  2796.0  73.72      0.630      15.6  13.930  3.7\n",
              "7  2796.5  75.65      0.625      16.5  13.920  3.5\n",
              "8  2797.0  73.79      0.624      16.2  13.980  3.4\n",
              "9  2797.5  76.89      0.615      16.9  14.220  3.5"
            ]
          },
          "metadata": {
            "tags": []
          },
          "execution_count": 13
        }
      ]
    },
    {
      "cell_type": "code",
      "metadata": {
        "id": "CBTCfqgY5ft8",
        "colab_type": "code",
        "colab": {
          "base_uri": "https://localhost:8080/",
          "height": 359
        },
        "outputId": "4f7a86f7-7156-46a9-ac8e-0d24a4e2baf6"
      },
      "source": [
        "#similarly create for target\n",
        "target=['Facies']\n",
        "target_data=dataset_na[target]\n",
        "target_data.head(10)"
      ],
      "execution_count": 14,
      "outputs": [
        {
          "output_type": "execute_result",
          "data": {
            "text/html": [
              "<div>\n",
              "<style scoped>\n",
              "    .dataframe tbody tr th:only-of-type {\n",
              "        vertical-align: middle;\n",
              "    }\n",
              "\n",
              "    .dataframe tbody tr th {\n",
              "        vertical-align: top;\n",
              "    }\n",
              "\n",
              "    .dataframe thead th {\n",
              "        text-align: right;\n",
              "    }\n",
              "</style>\n",
              "<table border=\"1\" class=\"dataframe\">\n",
              "  <thead>\n",
              "    <tr style=\"text-align: right;\">\n",
              "      <th></th>\n",
              "      <th>Facies</th>\n",
              "    </tr>\n",
              "  </thead>\n",
              "  <tbody>\n",
              "    <tr>\n",
              "      <th>0</th>\n",
              "      <td>3</td>\n",
              "    </tr>\n",
              "    <tr>\n",
              "      <th>1</th>\n",
              "      <td>3</td>\n",
              "    </tr>\n",
              "    <tr>\n",
              "      <th>2</th>\n",
              "      <td>3</td>\n",
              "    </tr>\n",
              "    <tr>\n",
              "      <th>3</th>\n",
              "      <td>3</td>\n",
              "    </tr>\n",
              "    <tr>\n",
              "      <th>4</th>\n",
              "      <td>3</td>\n",
              "    </tr>\n",
              "    <tr>\n",
              "      <th>5</th>\n",
              "      <td>3</td>\n",
              "    </tr>\n",
              "    <tr>\n",
              "      <th>6</th>\n",
              "      <td>3</td>\n",
              "    </tr>\n",
              "    <tr>\n",
              "      <th>7</th>\n",
              "      <td>3</td>\n",
              "    </tr>\n",
              "    <tr>\n",
              "      <th>8</th>\n",
              "      <td>3</td>\n",
              "    </tr>\n",
              "    <tr>\n",
              "      <th>9</th>\n",
              "      <td>3</td>\n",
              "    </tr>\n",
              "  </tbody>\n",
              "</table>\n",
              "</div>"
            ],
            "text/plain": [
              "   Facies\n",
              "0       3\n",
              "1       3\n",
              "2       3\n",
              "3       3\n",
              "4       3\n",
              "5       3\n",
              "6       3\n",
              "7       3\n",
              "8       3\n",
              "9       3"
            ]
          },
          "metadata": {
            "tags": []
          },
          "execution_count": 14
        }
      ]
    },
    {
      "cell_type": "code",
      "metadata": {
        "id": "YcP9M9mB50ME",
        "colab_type": "code",
        "colab": {
          "base_uri": "https://localhost:8080/",
          "height": 34
        },
        "outputId": "1f4d8f4c-7b31-494e-8377-8282bf4e31a5"
      },
      "source": [
        "dataset_na.shape"
      ],
      "execution_count": 15,
      "outputs": [
        {
          "output_type": "execute_result",
          "data": {
            "text/plain": [
              "(3232, 7)"
            ]
          },
          "metadata": {
            "tags": []
          },
          "execution_count": 15
        }
      ]
    },
    {
      "cell_type": "markdown",
      "metadata": {
        "id": "tWgsV_Zn6m-E",
        "colab_type": "text"
      },
      "source": [
        "**SPLITTING THE DATASET**"
      ]
    },
    {
      "cell_type": "code",
      "metadata": {
        "id": "16SpDoeB8lv2",
        "colab_type": "code",
        "colab": {}
      },
      "source": [
        "from sklearn.model_selection import train_test_split\n",
        "X_train, X_test, y_train, y_test = train_test_split(features_data, target_data, test_size = 0.3, random_state = 0)"
      ],
      "execution_count": 16,
      "outputs": []
    },
    {
      "cell_type": "code",
      "metadata": {
        "id": "xBUhJtlj9K6g",
        "colab_type": "code",
        "colab": {
          "base_uri": "https://localhost:8080/",
          "height": 34
        },
        "outputId": "e3e473bf-c814-4f84-cc28-1358ba610158"
      },
      "source": [
        "X_train.shape"
      ],
      "execution_count": 17,
      "outputs": [
        {
          "output_type": "execute_result",
          "data": {
            "text/plain": [
              "(2262, 6)"
            ]
          },
          "metadata": {
            "tags": []
          },
          "execution_count": 17
        }
      ]
    },
    {
      "cell_type": "code",
      "metadata": {
        "id": "l20EssT49Yae",
        "colab_type": "code",
        "colab": {
          "base_uri": "https://localhost:8080/",
          "height": 34
        },
        "outputId": "0f2c1660-71f1-424d-838a-85f1f275068e"
      },
      "source": [
        "y_train.shape"
      ],
      "execution_count": 18,
      "outputs": [
        {
          "output_type": "execute_result",
          "data": {
            "text/plain": [
              "(2262, 1)"
            ]
          },
          "metadata": {
            "tags": []
          },
          "execution_count": 18
        }
      ]
    },
    {
      "cell_type": "code",
      "metadata": {
        "id": "i_MzlO1a9c4t",
        "colab_type": "code",
        "colab": {
          "base_uri": "https://localhost:8080/",
          "height": 34
        },
        "outputId": "187f085b-0603-4d50-a905-7ca26cab8e21"
      },
      "source": [
        "X_test.shape"
      ],
      "execution_count": 19,
      "outputs": [
        {
          "output_type": "execute_result",
          "data": {
            "text/plain": [
              "(970, 6)"
            ]
          },
          "metadata": {
            "tags": []
          },
          "execution_count": 19
        }
      ]
    }
  ]
}